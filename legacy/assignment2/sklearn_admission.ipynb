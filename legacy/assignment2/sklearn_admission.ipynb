{
 "cells": [
  {
   "cell_type": "code",
   "execution_count": 1,
   "metadata": {},
   "outputs": [],
   "source": [
    "import matplotlib.pyplot as plt\n",
    "import numpy as np\n",
    "from matplotlib.colors import ListedColormap\n",
    "from sklearn.linear_model import LogisticRegression\n"
   ]
  },
  {
   "cell_type": "code",
   "execution_count": 2,
   "metadata": {},
   "outputs": [
    {
     "ename": "FileNotFoundError",
     "evalue": "admission.csv not found.",
     "output_type": "error",
     "traceback": [
      "\u001b[0;31m---------------------------------------------------------------------------\u001b[0m",
      "\u001b[0;31mFileNotFoundError\u001b[0m                         Traceback (most recent call last)",
      "\u001b[1;32m/media/programming/projects/machineLearning/ML/legacy/assignment2/sklearn_admission.ipynb Cell 2'\u001b[0m in \u001b[0;36m<cell line: 2>\u001b[0;34m()\u001b[0m\n\u001b[1;32m      <a href='vscode-notebook-cell:/media/programming/projects/machineLearning/ML/legacy/assignment2/sklearn_admission.ipynb#ch0000001?line=0'>1</a>\u001b[0m \u001b[39m# Read and parse CSV\u001b[39;00m\n\u001b[0;32m----> <a href='vscode-notebook-cell:/media/programming/projects/machineLearning/ML/legacy/assignment2/sklearn_admission.ipynb#ch0000001?line=1'>2</a>\u001b[0m X1, X2, y \u001b[39m=\u001b[39m np\u001b[39m.\u001b[39;49mgenfromtxt(\u001b[39m'\u001b[39;49m\u001b[39madmission.csv\u001b[39;49m\u001b[39m'\u001b[39;49m, delimiter\u001b[39m=\u001b[39;49m\u001b[39m\"\u001b[39;49m\u001b[39m,\u001b[39;49m\u001b[39m\"\u001b[39;49m, unpack\u001b[39m=\u001b[39;49m\u001b[39mTrue\u001b[39;49;00m)\n\u001b[1;32m      <a href='vscode-notebook-cell:/media/programming/projects/machineLearning/ML/legacy/assignment2/sklearn_admission.ipynb#ch0000001?line=3'>4</a>\u001b[0m \u001b[39m# Degree 2\u001b[39;00m\n\u001b[1;32m      <a href='vscode-notebook-cell:/media/programming/projects/machineLearning/ML/legacy/assignment2/sklearn_admission.ipynb#ch0000001?line=4'>5</a>\u001b[0m Xe \u001b[39m=\u001b[39m np\u001b[39m.\u001b[39mc_[X1, X2, X1 \u001b[39m*\u001b[39m\u001b[39m*\u001b[39m \u001b[39m2\u001b[39m, X1 \u001b[39m*\u001b[39m X2, X2 \u001b[39m*\u001b[39m\u001b[39m*\u001b[39m \u001b[39m2\u001b[39m]\n",
      "File \u001b[0;32m/media/programming/projects/machineLearning/ML/venv/lib/python3.9/site-packages/numpy/lib/npyio.py:1813\u001b[0m, in \u001b[0;36mgenfromtxt\u001b[0;34m(fname, dtype, comments, delimiter, skip_header, skip_footer, converters, missing_values, filling_values, usecols, names, excludelist, deletechars, replace_space, autostrip, case_sensitive, defaultfmt, unpack, usemask, loose, invalid_raise, max_rows, encoding, like)\u001b[0m\n\u001b[1;32m   <a href='file:///media/programming/projects/machineLearning/ML/venv/lib/python3.9/site-packages/numpy/lib/npyio.py?line=1810'>1811</a>\u001b[0m     fname \u001b[39m=\u001b[39m os_fspath(fname)\n\u001b[1;32m   <a href='file:///media/programming/projects/machineLearning/ML/venv/lib/python3.9/site-packages/numpy/lib/npyio.py?line=1811'>1812</a>\u001b[0m \u001b[39mif\u001b[39;00m \u001b[39misinstance\u001b[39m(fname, \u001b[39mstr\u001b[39m):\n\u001b[0;32m-> <a href='file:///media/programming/projects/machineLearning/ML/venv/lib/python3.9/site-packages/numpy/lib/npyio.py?line=1812'>1813</a>\u001b[0m     fid \u001b[39m=\u001b[39m np\u001b[39m.\u001b[39;49mlib\u001b[39m.\u001b[39;49m_datasource\u001b[39m.\u001b[39;49mopen(fname, \u001b[39m'\u001b[39;49m\u001b[39mrt\u001b[39;49m\u001b[39m'\u001b[39;49m, encoding\u001b[39m=\u001b[39;49mencoding)\n\u001b[1;32m   <a href='file:///media/programming/projects/machineLearning/ML/venv/lib/python3.9/site-packages/numpy/lib/npyio.py?line=1813'>1814</a>\u001b[0m     fid_ctx \u001b[39m=\u001b[39m contextlib\u001b[39m.\u001b[39mclosing(fid)\n\u001b[1;32m   <a href='file:///media/programming/projects/machineLearning/ML/venv/lib/python3.9/site-packages/numpy/lib/npyio.py?line=1814'>1815</a>\u001b[0m \u001b[39melse\u001b[39;00m:\n",
      "File \u001b[0;32m/media/programming/projects/machineLearning/ML/venv/lib/python3.9/site-packages/numpy/lib/_datasource.py:193\u001b[0m, in \u001b[0;36mopen\u001b[0;34m(path, mode, destpath, encoding, newline)\u001b[0m\n\u001b[1;32m    <a href='file:///media/programming/projects/machineLearning/ML/venv/lib/python3.9/site-packages/numpy/lib/_datasource.py?line=155'>156</a>\u001b[0m \u001b[39m\"\"\"\u001b[39;00m\n\u001b[1;32m    <a href='file:///media/programming/projects/machineLearning/ML/venv/lib/python3.9/site-packages/numpy/lib/_datasource.py?line=156'>157</a>\u001b[0m \u001b[39mOpen `path` with `mode` and return the file object.\u001b[39;00m\n\u001b[1;32m    <a href='file:///media/programming/projects/machineLearning/ML/venv/lib/python3.9/site-packages/numpy/lib/_datasource.py?line=157'>158</a>\u001b[0m \n\u001b[0;32m   (...)\u001b[0m\n\u001b[1;32m    <a href='file:///media/programming/projects/machineLearning/ML/venv/lib/python3.9/site-packages/numpy/lib/_datasource.py?line=188'>189</a>\u001b[0m \n\u001b[1;32m    <a href='file:///media/programming/projects/machineLearning/ML/venv/lib/python3.9/site-packages/numpy/lib/_datasource.py?line=189'>190</a>\u001b[0m \u001b[39m\"\"\"\u001b[39;00m\n\u001b[1;32m    <a href='file:///media/programming/projects/machineLearning/ML/venv/lib/python3.9/site-packages/numpy/lib/_datasource.py?line=191'>192</a>\u001b[0m ds \u001b[39m=\u001b[39m DataSource(destpath)\n\u001b[0;32m--> <a href='file:///media/programming/projects/machineLearning/ML/venv/lib/python3.9/site-packages/numpy/lib/_datasource.py?line=192'>193</a>\u001b[0m \u001b[39mreturn\u001b[39;00m ds\u001b[39m.\u001b[39;49mopen(path, mode, encoding\u001b[39m=\u001b[39;49mencoding, newline\u001b[39m=\u001b[39;49mnewline)\n",
      "File \u001b[0;32m/media/programming/projects/machineLearning/ML/venv/lib/python3.9/site-packages/numpy/lib/_datasource.py:532\u001b[0m, in \u001b[0;36mDataSource.open\u001b[0;34m(self, path, mode, encoding, newline)\u001b[0m\n\u001b[1;32m    <a href='file:///media/programming/projects/machineLearning/ML/venv/lib/python3.9/site-packages/numpy/lib/_datasource.py?line=528'>529</a>\u001b[0m     \u001b[39mreturn\u001b[39;00m _file_openers[ext](found, mode\u001b[39m=\u001b[39mmode,\n\u001b[1;32m    <a href='file:///media/programming/projects/machineLearning/ML/venv/lib/python3.9/site-packages/numpy/lib/_datasource.py?line=529'>530</a>\u001b[0m                               encoding\u001b[39m=\u001b[39mencoding, newline\u001b[39m=\u001b[39mnewline)\n\u001b[1;32m    <a href='file:///media/programming/projects/machineLearning/ML/venv/lib/python3.9/site-packages/numpy/lib/_datasource.py?line=530'>531</a>\u001b[0m \u001b[39melse\u001b[39;00m:\n\u001b[0;32m--> <a href='file:///media/programming/projects/machineLearning/ML/venv/lib/python3.9/site-packages/numpy/lib/_datasource.py?line=531'>532</a>\u001b[0m     \u001b[39mraise\u001b[39;00m \u001b[39mFileNotFoundError\u001b[39;00m(\u001b[39mf\u001b[39m\u001b[39m\"\u001b[39m\u001b[39m{\u001b[39;00mpath\u001b[39m}\u001b[39;00m\u001b[39m not found.\u001b[39m\u001b[39m\"\u001b[39m)\n",
      "\u001b[0;31mFileNotFoundError\u001b[0m: admission.csv not found."
     ]
    }
   ],
   "source": [
    "\n",
    "# Read and parse CSV\n",
    "X1, X2, y = np.genfromtxt('admission.csv', delimiter=\",\", unpack=True)\n",
    "\n",
    "# Degree 2\n",
    "Xe = np.c_[X1, X2, X1 ** 2, X1 * X2, X2 ** 2]  # No 1-column added!\n"
   ]
  },
  {
   "cell_type": "code",
   "execution_count": null,
   "metadata": {},
   "outputs": [],
   "source": [
    "\n",
    "logreg = LogisticRegression(solver='lbfgs', C=100, tol=1e-5)  # instantiate the model\n",
    "logreg.fit(Xe, y)  # fit the model with datasets\n",
    "\n",
    "y_pred = logreg.predict(Xe)  # predict training set\n",
    "errors = np.sum(y_pred != y)\n",
    "print('Training errors: ', errors)\n",
    "\n",
    "# Assign a class to each point in the mesh [x_min, x_max]x[y_min, y_max].\n",
    "\n",
    "# Setup mesh grid\n",
    "h = .05  # step size in the mesh\n",
    "x_min, x_max = X1.min() - 1, X1.max() + 1\n",
    "y_min, y_max = X2.min() - 1, X2.max() + 1\n",
    "xx, yy = np.meshgrid(np.arange(x_min, x_max, h), np.arange(y_min, y_max, h))  # Mesh Grid\n",
    "x1, x2 = xx.ravel(), yy.ravel()  # Two Nx1 vectors\n",
    "\n",
    "#  predict each mesh point\n",
    "xy_mesh = np.c_[x1, x2, x1 ** 2, x1 * x2, x2 ** 2]\n",
    "classes = logreg.predict(xy_mesh)\n",
    "clz_mesh = classes.reshape(xx.shape)\n",
    "\n",
    "# Create mesh plot\n",
    "cmap_light = ListedColormap(['#FFAAAA', '#AAFFAA', '#AAAAFF'])\n",
    "cmap_bold = ListedColormap(['#FF0000', '#00FF00', '#0000FF'])\n",
    "plt.figure(1)\n",
    "plt.pcolormesh(xx, yy, clz_mesh, cmap=cmap_light)\n",
    "plt.scatter(X1, X2, c=y, marker='.', cmap=cmap_bold)\n",
    "plt.title('admission.csv, using sklearn LogisticRegression')\n",
    "plt.show()\n"
   ]
  }
 ],
 "metadata": {
  "interpreter": {
   "hash": "9705cd9bb1cd3f75cacc64c830c816f4d5b8b46bb8973c8b095f871cd13babda"
  },
  "kernelspec": {
   "display_name": "Python 3.9.5 ('venv': venv)",
   "language": "python",
   "name": "python3"
  },
  "language_info": {
   "codemirror_mode": {
    "name": "ipython",
    "version": 3
   },
   "file_extension": ".py",
   "mimetype": "text/x-python",
   "name": "python",
   "nbconvert_exporter": "python",
   "pygments_lexer": "ipython3",
   "version": "3.9.5"
  },
  "orig_nbformat": 4
 },
 "nbformat": 4,
 "nbformat_minor": 2
}
