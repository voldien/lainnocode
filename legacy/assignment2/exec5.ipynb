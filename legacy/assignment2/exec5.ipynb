{
 "cells": [
  {
   "cell_type": "code",
   "execution_count": 1,
   "metadata": {},
   "outputs": [],
   "source": [
    "import gzip\n",
    "import struct\n",
    "from array import array as pyarray\n",
    "\n",
    "import matplotlib.pyplot as plt\n",
    "import numpy as np\n",
    "from sklearn import metrics\n",
    "from sklearn.linear_model import LogisticRegression\n",
    "\n",
    "from regression import multiLogisticFit, multiLogisticPredict, logicError\n"
   ]
  },
  {
   "cell_type": "code",
   "execution_count": 2,
   "metadata": {},
   "outputs": [
    {
     "name": "stderr",
     "output_type": "stream",
     "text": [
      "/tmp/ipykernel_114601/2428021409.py:34: DeprecationWarning: `np.float` is a deprecated alias for the builtin `float`. To silence this warning, use `float` by itself. Doing this will not modify any behavior and is safe. If you specifically wanted the numpy scalar type, use `np.float64` here.\n",
      "Deprecated in NumPy 1.20; for more details and guidance: https://numpy.org/devdocs/release/1.20.0-notes.html#deprecations\n",
      "  images = np.zeros((N, rows * cols), dtype=np.float)\n"
     ]
    }
   ],
   "source": [
    "\n",
    "samplesSize = [100, 100, 150, 500, 1000, 2000,\n",
    "               3000, 4000, 6000, 8000, 10000, 40000, 60000]\n",
    "testSize = [500, 600, 700, 800, 900, 1000,\n",
    "            3000, 4000, 6000, 8000, 9000, 10000, 10000]\n",
    "digits = np.arange(10)\n",
    "\n",
    "\n",
    "def loadMNIST(imagePath, labelPath, size=1000, digits=np.arange(10)):\n",
    "    \"\"\"\n",
    "\n",
    "    :param imagePath:\n",
    "    :param labelPath:\n",
    "    :param size:\n",
    "    :param digits:\n",
    "    :return:\n",
    "    \"\"\"\n",
    "    N = size\n",
    "\n",
    "    with gzip.open(labelPath, 'rb') as finf:\n",
    "        magic_nr, size = struct.unpack(\">II\", finf.read(8))\n",
    "        lbl = pyarray(\"b\", finf.read())\n",
    "\n",
    "        ind = [k for k in range(size) if lbl[k] in digits]\n",
    "        labels = np.zeros((N, 1), dtype=np.int8)\n",
    "        for i in range(N):\n",
    "            labels[i] = lbl[ind[i]]\n",
    "        finf.close()\n",
    "\n",
    "    with gzip.open(imagePath, 'rb') as fimg:\n",
    "        magic_nr, size, rows, cols = struct.unpack(\">IIII\", fimg.read(16))\n",
    "        img = pyarray(\"B\", fimg.read())\n",
    "\n",
    "        ind = [k for k in range(size) if lbl[k] in digits]\n",
    "        images = np.zeros((N, rows * cols), dtype=np.float)\n",
    "\n",
    "        for i in range(N):  # int(len(ind) * size/100.)):\n",
    "            images[i] = np.array(img[ind[i] * rows * cols: (ind[i] + 1) * rows * cols]) \\\n",
    "                .reshape((rows * cols)) / 255.0\n",
    "\n",
    "        fimg.close()\n",
    "\n",
    "    labels = [label[0] for label in labels]\n",
    "    return images, labels\n",
    "\n",
    "\n",
    "MNISTImgTrain = \"datasets/train-images-idx3-ubyte.gz\"\n",
    "MNISTLabelTrain = \"datasets/train-labels-idx1-ubyte.gz\"\n",
    "MNISTImg = \"datasets/t10k-images-idx3-ubyte.gz\"\n",
    "MNISTLabel = \"datasets/t10k-labels-idx1-ubyte.gz\"\n",
    "\n",
    "# Test if the images are loaded correctly!\n",
    "train_img, train_lbl = loadMNIST(MNISTImgTrain, MNISTLabelTrain, 5)\n"
   ]
  },
  {
   "cell_type": "code",
   "execution_count": 3,
   "metadata": {},
   "outputs": [
    {
     "data": {
      "image/png": "[encoded data removed]",
      "text/plain": [
       "<Figure size 1440x288 with 5 Axes>"
      ]
     },
     "metadata": {
      "needs_background": "light"
     },
     "output_type": "display_data"
    }
   ],
   "source": [
    "\n",
    "plt.figure(figsize=(20, 4))\n",
    "for index, (image, label) in enumerate(zip(train_img[0:5], train_lbl[0:5])):\n",
    "    plt.subplot(1, 5, index + 1)\n",
    "    plt.imshow(np.reshape(image, (28, 28)), cmap=plt.cm.gray)\n",
    "    plt.title('Training: %i\\n' % label, fontsize=20)\n",
    "plt.show()\n"
   ]
  },
  {
   "cell_type": "code",
   "execution_count": 4,
   "metadata": {},
   "outputs": [
    {
     "name": "stderr",
     "output_type": "stream",
     "text": [
      "/tmp/ipykernel_114601/2428021409.py:34: DeprecationWarning: `np.float` is a deprecated alias for the builtin `float`. To silence this warning, use `float` by itself. Doing this will not modify any behavior and is safe. If you specifically wanted the numpy scalar type, use `np.float64` here.\n",
      "Deprecated in NumPy 1.20; for more details and guidance: https://numpy.org/devdocs/release/1.20.0-notes.html#deprecations\n",
      "  images = np.zeros((N, rows * cols), dtype=np.float)\n",
      "[Parallel(n_jobs=4)]: Using backend LokyBackend with 4 concurrent workers.\n"
     ]
    },
    {
     "name": "stdout",
     "output_type": "stream",
     "text": [
      "RUNNING THE L-BFGS-B CODE\n",
      "\n",
      "           * * *\n",
      "\n",
      "Machine precision = 2.220D-16\n",
      " N =         7850     M =           10\n",
      "\n",
      "At X0         0 variables are exactly at the bounds\n",
      "\n",
      "At iterate    0    f=  1.38155D+05    |proj g|=  3.82390D+03\n"
     ]
    },
    {
     "name": "stderr",
     "output_type": "stream",
     "text": [
      " This problem is unconstrained.\n"
     ]
    },
    {
     "name": "stdout",
     "output_type": "stream",
     "text": [
      "\n",
      "At iterate   50    f=  1.57649D+04    |proj g|=  1.52068D+02\n",
      "\n",
      "At iterate  100    f=  1.45463D+04    |proj g|=  5.43585D+01\n",
      "\n",
      "At iterate  150    f=  1.41741D+04    |proj g|=  1.51109D+01\n",
      "\n",
      "At iterate  200    f=  1.40332D+04    |proj g|=  2.75146D+01\n",
      "\n",
      "At iterate  250    f=  1.39720D+04    |proj g|=  1.22358D+01\n",
      "\n",
      "At iterate  300    f=  1.39468D+04    |proj g|=  1.23873D+01\n",
      "\n",
      "At iterate  350    f=  1.39353D+04    |proj g|=  3.18372D+00\n",
      "\n",
      "At iterate  400    f=  1.39307D+04    |proj g|=  1.98477D+00\n",
      "\n",
      "At iterate  450    f=  1.39287D+04    |proj g|=  2.68557D+00\n",
      "\n",
      "At iterate  500    f=  1.39277D+04    |proj g|=  9.31960D-01\n",
      "\n",
      "At iterate  550    f=  1.39274D+04    |proj g|=  1.63451D+00\n",
      "\n",
      "At iterate  600    f=  1.39272D+04    |proj g|=  3.16010D-01\n",
      "\n",
      "At iterate  650    f=  1.39271D+04    |proj g|=  2.45817D-01\n",
      "\n",
      "At iterate  700    f=  1.39271D+04    |proj g|=  2.89945D-01\n",
      "\n",
      "At iterate  750    f=  1.39271D+04    |proj g|=  8.96479D-02\n",
      "\n",
      "At iterate  800    f=  1.39271D+04    |proj g|=  8.47656D-02\n",
      "\n",
      "           * * *\n",
      "\n",
      "Tit   = total number of iterations\n",
      "Tnf   = total number of function evaluations\n",
      "Tnint = total number of segments explored during Cauchy searches\n",
      "Skip  = number of BFGS updates skipped\n",
      "Nact  = number of active bounds at final generalized Cauchy point\n",
      "Projg = norm of the final projected gradient\n",
      "F     = final function value\n",
      "\n",
      "           * * *\n",
      "\n",
      "   N    Tit     Tnf  Tnint  Skip  Nact     Projg        F\n",
      " 7850    812    863      1     0     0   5.553D-02   1.393D+04\n",
      "  F =   13927.065242584891     \n",
      "\n",
      "CONVERGENCE: REL_REDUCTION_OF_F_<=_FACTR*EPSMCH             \n"
     ]
    },
    {
     "name": "stderr",
     "output_type": "stream",
     "text": [
      "[Parallel(n_jobs=4)]: Done   1 out of   1 | elapsed:  3.7min finished\n"
     ]
    },
    {
     "ename": "ValueError",
     "evalue": "multiclass format is not supported",
     "output_type": "error",
     "traceback": [
      "\u001b[0;31m---------------------------------------------------------------------------\u001b[0m",
      "\u001b[0;31mValueError\u001b[0m                                Traceback (most recent call last)",
      "\u001b[1;32m/media/programming/projects/machineLearning/ML/legacy/assignment2/exec5.ipynb Cell 4'\u001b[0m in \u001b[0;36m<cell line: 2>\u001b[0;34m()\u001b[0m\n\u001b[1;32m     <a href='vscode-notebook-cell:/media/programming/projects/machineLearning/ML/legacy/assignment2/exec5.ipynb#ch0000003?line=11'>12</a>\u001b[0m \u001b[39m#\u001b[39;00m\n\u001b[1;32m     <a href='vscode-notebook-cell:/media/programming/projects/machineLearning/ML/legacy/assignment2/exec5.ipynb#ch0000003?line=12'>13</a>\u001b[0m y_pred_proba \u001b[39m=\u001b[39m logisticRegr\u001b[39m.\u001b[39mpredict_proba(tX)\n\u001b[0;32m---> <a href='vscode-notebook-cell:/media/programming/projects/machineLearning/ML/legacy/assignment2/exec5.ipynb#ch0000003?line=13'>14</a>\u001b[0m fpr, tpr, _ \u001b[39m=\u001b[39m metrics\u001b[39m.\u001b[39;49mroc_curve(ty, y_pred_proba)\n\u001b[1;32m     <a href='vscode-notebook-cell:/media/programming/projects/machineLearning/ML/legacy/assignment2/exec5.ipynb#ch0000003?line=15'>16</a>\u001b[0m cm \u001b[39m=\u001b[39m metrics\u001b[39m.\u001b[39mconfusion_matrix(ty, predictions)\n\u001b[1;32m     <a href='vscode-notebook-cell:/media/programming/projects/machineLearning/ML/legacy/assignment2/exec5.ipynb#ch0000003?line=16'>17</a>\u001b[0m \u001b[39mprint\u001b[39m(cm)\n",
      "File \u001b[0;32m/media/programming/projects/machineLearning/ML/venv/lib/python3.9/site-packages/sklearn/metrics/_ranking.py:962\u001b[0m, in \u001b[0;36mroc_curve\u001b[0;34m(y_true, y_score, pos_label, sample_weight, drop_intermediate)\u001b[0m\n\u001b[1;32m    <a href='file:///media/programming/projects/machineLearning/ML/venv/lib/python3.9/site-packages/sklearn/metrics/_ranking.py?line=872'>873</a>\u001b[0m \u001b[39mdef\u001b[39;00m \u001b[39mroc_curve\u001b[39m(\n\u001b[1;32m    <a href='file:///media/programming/projects/machineLearning/ML/venv/lib/python3.9/site-packages/sklearn/metrics/_ranking.py?line=873'>874</a>\u001b[0m     y_true, y_score, \u001b[39m*\u001b[39m, pos_label\u001b[39m=\u001b[39m\u001b[39mNone\u001b[39;00m, sample_weight\u001b[39m=\u001b[39m\u001b[39mNone\u001b[39;00m, drop_intermediate\u001b[39m=\u001b[39m\u001b[39mTrue\u001b[39;00m\n\u001b[1;32m    <a href='file:///media/programming/projects/machineLearning/ML/venv/lib/python3.9/site-packages/sklearn/metrics/_ranking.py?line=874'>875</a>\u001b[0m ):\n\u001b[1;32m    <a href='file:///media/programming/projects/machineLearning/ML/venv/lib/python3.9/site-packages/sklearn/metrics/_ranking.py?line=875'>876</a>\u001b[0m     \u001b[39m\"\"\"Compute Receiver operating characteristic (ROC).\u001b[39;00m\n\u001b[1;32m    <a href='file:///media/programming/projects/machineLearning/ML/venv/lib/python3.9/site-packages/sklearn/metrics/_ranking.py?line=876'>877</a>\u001b[0m \n\u001b[1;32m    <a href='file:///media/programming/projects/machineLearning/ML/venv/lib/python3.9/site-packages/sklearn/metrics/_ranking.py?line=877'>878</a>\u001b[0m \u001b[39m    Note: this implementation is restricted to the binary classification task.\u001b[39;00m\n\u001b[0;32m   (...)\u001b[0m\n\u001b[1;32m    <a href='file:///media/programming/projects/machineLearning/ML/venv/lib/python3.9/site-packages/sklearn/metrics/_ranking.py?line=959'>960</a>\u001b[0m \n\u001b[1;32m    <a href='file:///media/programming/projects/machineLearning/ML/venv/lib/python3.9/site-packages/sklearn/metrics/_ranking.py?line=960'>961</a>\u001b[0m \u001b[39m    \"\"\"\u001b[39;00m\n\u001b[0;32m--> <a href='file:///media/programming/projects/machineLearning/ML/venv/lib/python3.9/site-packages/sklearn/metrics/_ranking.py?line=961'>962</a>\u001b[0m     fps, tps, thresholds \u001b[39m=\u001b[39m _binary_clf_curve(\n\u001b[1;32m    <a href='file:///media/programming/projects/machineLearning/ML/venv/lib/python3.9/site-packages/sklearn/metrics/_ranking.py?line=962'>963</a>\u001b[0m         y_true, y_score, pos_label\u001b[39m=\u001b[39;49mpos_label, sample_weight\u001b[39m=\u001b[39;49msample_weight\n\u001b[1;32m    <a href='file:///media/programming/projects/machineLearning/ML/venv/lib/python3.9/site-packages/sklearn/metrics/_ranking.py?line=963'>964</a>\u001b[0m     )\n\u001b[1;32m    <a href='file:///media/programming/projects/machineLearning/ML/venv/lib/python3.9/site-packages/sklearn/metrics/_ranking.py?line=965'>966</a>\u001b[0m     \u001b[39m# Attempt to drop thresholds corresponding to points in between and\u001b[39;00m\n\u001b[1;32m    <a href='file:///media/programming/projects/machineLearning/ML/venv/lib/python3.9/site-packages/sklearn/metrics/_ranking.py?line=966'>967</a>\u001b[0m     \u001b[39m# collinear with other points. These are always suboptimal and do not\u001b[39;00m\n\u001b[1;32m    <a href='file:///media/programming/projects/machineLearning/ML/venv/lib/python3.9/site-packages/sklearn/metrics/_ranking.py?line=967'>968</a>\u001b[0m     \u001b[39m# appear on a plotted ROC curve (and thus do not affect the AUC).\u001b[39;00m\n\u001b[0;32m   (...)\u001b[0m\n\u001b[1;32m    <a href='file:///media/programming/projects/machineLearning/ML/venv/lib/python3.9/site-packages/sklearn/metrics/_ranking.py?line=972'>973</a>\u001b[0m     \u001b[39m# but does not drop more complicated cases like fps = [1, 3, 7],\u001b[39;00m\n\u001b[1;32m    <a href='file:///media/programming/projects/machineLearning/ML/venv/lib/python3.9/site-packages/sklearn/metrics/_ranking.py?line=973'>974</a>\u001b[0m     \u001b[39m# tps = [1, 2, 4]; there is no harm in keeping too many thresholds.\u001b[39;00m\n\u001b[1;32m    <a href='file:///media/programming/projects/machineLearning/ML/venv/lib/python3.9/site-packages/sklearn/metrics/_ranking.py?line=974'>975</a>\u001b[0m     \u001b[39mif\u001b[39;00m drop_intermediate \u001b[39mand\u001b[39;00m \u001b[39mlen\u001b[39m(fps) \u001b[39m>\u001b[39m \u001b[39m2\u001b[39m:\n",
      "File \u001b[0;32m/media/programming/projects/machineLearning/ML/venv/lib/python3.9/site-packages/sklearn/metrics/_ranking.py:731\u001b[0m, in \u001b[0;36m_binary_clf_curve\u001b[0;34m(y_true, y_score, pos_label, sample_weight)\u001b[0m\n\u001b[1;32m    <a href='file:///media/programming/projects/machineLearning/ML/venv/lib/python3.9/site-packages/sklearn/metrics/_ranking.py?line=728'>729</a>\u001b[0m y_type \u001b[39m=\u001b[39m type_of_target(y_true)\n\u001b[1;32m    <a href='file:///media/programming/projects/machineLearning/ML/venv/lib/python3.9/site-packages/sklearn/metrics/_ranking.py?line=729'>730</a>\u001b[0m \u001b[39mif\u001b[39;00m \u001b[39mnot\u001b[39;00m (y_type \u001b[39m==\u001b[39m \u001b[39m\"\u001b[39m\u001b[39mbinary\u001b[39m\u001b[39m\"\u001b[39m \u001b[39mor\u001b[39;00m (y_type \u001b[39m==\u001b[39m \u001b[39m\"\u001b[39m\u001b[39mmulticlass\u001b[39m\u001b[39m\"\u001b[39m \u001b[39mand\u001b[39;00m pos_label \u001b[39mis\u001b[39;00m \u001b[39mnot\u001b[39;00m \u001b[39mNone\u001b[39;00m)):\n\u001b[0;32m--> <a href='file:///media/programming/projects/machineLearning/ML/venv/lib/python3.9/site-packages/sklearn/metrics/_ranking.py?line=730'>731</a>\u001b[0m     \u001b[39mraise\u001b[39;00m \u001b[39mValueError\u001b[39;00m(\u001b[39m\"\u001b[39m\u001b[39m{0}\u001b[39;00m\u001b[39m format is not supported\u001b[39m\u001b[39m\"\u001b[39m\u001b[39m.\u001b[39mformat(y_type))\n\u001b[1;32m    <a href='file:///media/programming/projects/machineLearning/ML/venv/lib/python3.9/site-packages/sklearn/metrics/_ranking.py?line=732'>733</a>\u001b[0m check_consistent_length(y_true, y_score, sample_weight)\n\u001b[1;32m    <a href='file:///media/programming/projects/machineLearning/ML/venv/lib/python3.9/site-packages/sklearn/metrics/_ranking.py?line=733'>734</a>\u001b[0m y_true \u001b[39m=\u001b[39m column_or_1d(y_true)\n",
      "\u001b[0;31mValueError\u001b[0m: multiclass format is not supported"
     ]
    }
   ],
   "source": [
    "\n",
    "# 2 Regression model Logistic\n",
    "for s, t in zip(samplesSize[::-1], testSize):\n",
    "    X, y = loadMNIST(MNISTImgTrain, MNISTLabelTrain, 60000)\n",
    "    tX, ty = loadMNIST(MNISTImg, MNISTLabel, t)\n",
    "    logisticRegr = LogisticRegression(\n",
    "        solver='lbfgs', verbose=1, n_jobs=4, max_iter=1000)\n",
    "\n",
    "    logisticRegr.fit(X, y)\n",
    "    predictions = logisticRegr.predict(tX)\n",
    "    accuracy = logisticRegr.score(tX, ty)\n",
    "\n",
    "    #\n",
    "    y_pred_proba = logisticRegr.predict_proba(tX)\n",
    "    fpr, tpr, _ = metrics.roc_curve(ty, y_pred_proba)\n",
    "\n",
    "    cm = metrics.confusion_matrix(ty, predictions)\n",
    "    print(cm)\n",
    "    print(\"sklearn-LogisticRegression::\" \"train:\", len(X),\n",
    "          \"test:\", len(ty), \"accuracy:\", accuracy / len(ty))\n"
   ]
  },
  {
   "cell_type": "code",
   "execution_count": null,
   "metadata": {},
   "outputs": [],
   "source": [
    "\n",
    "# 2 Regression model Logistic from previous assignments\n",
    "beta = np.zeros(28 * 28 + 1)\n",
    "\n",
    "predictions = []\n",
    "for s, t in zip(samplesSize, testSize):\n",
    "    X, y = loadMNIST(MNISTImgTrain, MNISTLabelTrain, t)\n",
    "    tX, ty = loadMNIST(MNISTImg, MNISTLabel, s)\n",
    "\n",
    "    # Compute the best\n",
    "    w, b = multiLogisticFit(X, y, 10)\n",
    "\n",
    "    predicted = multiLogisticPredict(tX, b, w)\n",
    "    score = logicError(predicted, ty)\n",
    "\n",
    "    print(\"Logistic-Regression::\" \"train:\", len(X),\n",
    "          \"test:\", len(ty), \"accuracy:\", score)\n",
    "# cm = metrics.confusion_matrix(ty, predicted)\n",
    "# print(\"Accuracy:\", metrics.accuracy_score(y_test, y_pred))\n",
    "# print(\"Precision:\", metrics.precision_score(y_test, y_pred))\n",
    "# print(\"Recall:\", metrics.recall_score(y_test, y_pred))\n"
   ]
  }
 ],
 "metadata": {
  "interpreter": {
   "hash": "9705cd9bb1cd3f75cacc64c830c816f4d5b8b46bb8973c8b095f871cd13babda"
  },
  "kernelspec": {
   "display_name": "Python 3.9.5 ('venv': venv)",
   "language": "python",
   "name": "python3"
  },
  "language_info": {
   "codemirror_mode": {
    "name": "ipython",
    "version": 3
   },
   "file_extension": ".py",
   "mimetype": "text/x-python",
   "name": "python",
   "nbconvert_exporter": "python",
   "pygments_lexer": "ipython3",
   "version": "3.9.5"
  },
  "orig_nbformat": 4
 },
 "nbformat": 4,
 "nbformat_minor": 2
}
