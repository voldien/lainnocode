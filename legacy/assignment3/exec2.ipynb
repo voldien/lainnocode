{
 "cells": [
  {
   "cell_type": "code",
   "execution_count": 1,
   "metadata": {},
   "outputs": [],
   "source": [
    "import pickle\n",
    "\n",
    "import numpy as np\n",
    "import pandas as pd\n",
    "import matplotlib.pyplot as plt\n",
    "from mpl_toolkits import mplot3d\n",
    "from sklearn import svm\n",
    "from sklearn.model_selection import GridSearchCV, train_test_split, RandomizedSearchCV\n"
   ]
  },
  {
   "cell_type": "code",
   "execution_count": 2,
   "metadata": {},
   "outputs": [],
   "source": [
    "\n",
    "\n",
    "def plot_svc_decision_function(model, ax=None):\n",
    "    if ax is None:\n",
    "        ax = plt.gca()\n",
    "    xlim = ax.get_xlim()\n",
    "    ylim = ax.get_ylim()\n",
    "    zlim = ax.get_zlim()\n",
    "\n",
    "    # create grid to evaluate model\n",
    "    x = np.linspace(xlim[0], xlim[1], 30)\n",
    "    y = np.linspace(ylim[0], ylim[1], 30)\n",
    "    z = np.linspace(zlim[0], zlim[1], 30)\n",
    "    Y, X = np.meshgrid(y, x)\n",
    "    xy = np.vstack([X.ravel(), Y.ravel()]).T\n",
    "    P = model.decision_function(xy).reshape(X.shape)\n",
    "\n",
    "    # plot decision boundary and margins\n",
    "    ax.contour(X, Y, P, colors='k',\n",
    "               levels=[-1, 0, 1], alpha=0.5,\n",
    "               linestyles=['--', '-', '--'])\n",
    "\n",
    "    # plot support vectors\n",
    "    # ax.scatter(model.support_vectors_[:, 0],\n",
    "    #            model.support_vectors_[:, 1],\n",
    "    #            s=300, linewidth=1, facecolors='none');\n",
    "    ax.set_xlim(xlim)\n",
    "    ax.set_ylim(ylim)\n"
   ]
  },
  {
   "cell_type": "code",
   "execution_count": 3,
   "metadata": {},
   "outputs": [],
   "source": [
    "\n",
    "filename = 'exec2_model.sav'\n",
    "df = pd.read_csv(\"dataBM.csv\", header=None)\n",
    "\n",
    "X = np.array(df.drop(columns=2, axis=1))\n",
    "y = np.array(df.drop(columns=[0, 1], axis=1)).ravel()\n",
    "\n",
    "x_train, x_test, y_train, y_test = train_test_split(\n",
    "    X, y, test_size=0.2, shuffle=True)\n"
   ]
  },
  {
   "cell_type": "code",
   "execution_count": 4,
   "metadata": {},
   "outputs": [
    {
     "ename": "ModuleNotFoundError",
     "evalue": "No module named 'sklearn.svm.classes'",
     "output_type": "error",
     "traceback": [
      "\u001b[0;31m---------------------------------------------------------------------------\u001b[0m",
      "\u001b[0;31mModuleNotFoundError\u001b[0m                       Traceback (most recent call last)",
      "\u001b[1;32m/media/programming/projects/machineLearning/ML/legacy/assignment3/exec2.ipynb Cell 4'\u001b[0m in \u001b[0;36m<cell line: 1>\u001b[0;34m()\u001b[0m\n\u001b[1;32m      <a href='vscode-notebook-cell:/media/programming/projects/machineLearning/ML/legacy/assignment3/exec2.ipynb#ch0000003?line=0'>1</a>\u001b[0m \u001b[39mtry\u001b[39;00m:\n\u001b[1;32m      <a href='vscode-notebook-cell:/media/programming/projects/machineLearning/ML/legacy/assignment3/exec2.ipynb#ch0000003?line=1'>2</a>\u001b[0m     \u001b[39mwith\u001b[39;00m \u001b[39mopen\u001b[39m(filename, \u001b[39m'\u001b[39m\u001b[39mrb\u001b[39m\u001b[39m'\u001b[39m) \u001b[39mas\u001b[39;00m f:\n\u001b[0;32m----> <a href='vscode-notebook-cell:/media/programming/projects/machineLearning/ML/legacy/assignment3/exec2.ipynb#ch0000003?line=2'>3</a>\u001b[0m         model \u001b[39m=\u001b[39m pickle\u001b[39m.\u001b[39;49mload(f)\n\u001b[1;32m      <a href='vscode-notebook-cell:/media/programming/projects/machineLearning/ML/legacy/assignment3/exec2.ipynb#ch0000003?line=3'>4</a>\u001b[0m     ax \u001b[39m=\u001b[39m plt\u001b[39m.\u001b[39maxes(projection\u001b[39m=\u001b[39m\u001b[39m'\u001b[39m\u001b[39m3d\u001b[39m\u001b[39m'\u001b[39m)\n\u001b[1;32m      <a href='vscode-notebook-cell:/media/programming/projects/machineLearning/ML/legacy/assignment3/exec2.ipynb#ch0000003?line=4'>5</a>\u001b[0m     ax\u001b[39m.\u001b[39mset_xlabel(\u001b[39m'\u001b[39m\u001b[39mX\u001b[39m\u001b[39m'\u001b[39m)\n",
      "\u001b[0;31mModuleNotFoundError\u001b[0m: No module named 'sklearn.svm.classes'"
     ]
    }
   ],
   "source": [
    "\n",
    "try:\n",
    "    with open(filename, 'rb') as f:\n",
    "        model = pickle.load(f)\n",
    "    ax = plt.axes(projection='3d')\n",
    "    ax.set_xlabel('X')\n",
    "    ax.set_ylabel('Y')\n",
    "    ax.set_zlabel('Z')\n",
    "\n",
    "    ax.scatter(X[:, 0], X[:, 1], model.predict(X), c=y, s=50, cmap='autumn')\n",
    "\n",
    "    #ax.scatter(x_test[:, 0], x_test[:, 1], y_test, c=y, s=50, cmap='autumn')\n",
    "    plot_svc_decision_function(model, ax)\n",
    "    plt.suptitle(\"dataBM.csv score {}\".format(model.score(x_test, y_test)))\n",
    "    ax.view_init(elev=88., azim=-89.)\n",
    "\n",
    "    plt.show()\n",
    "except FileNotFoundError as f:\n",
    "    k = [5, 10]\n",
    "    # If model file does not exist. Create it.\n",
    "\n",
    "    # The best model.\n",
    "    # model = svm.SVC(C=1000000.0, cache_size=200, class_weight=None, coef0=0.0,\n",
    "    #     decision_function_shape='ovr', degree=3, gamma=10, kernel='rbf',\n",
    "    #     max_iter=-1, probability=False, random_state=None, shrinking=True,\n",
    "    #     tol=0.001, verbose=False)\n",
    "\n",
    "    for _k in k:\n",
    "        parameters = {'C': [0.001, 0.1, 1, 10, 100, 10e5], 'gamma': [10, 1, 0.1, 0.01, 0.001],\n",
    "                      'decision_function_shape': ['ovr', 'ovo'], 'kernel': ['rbf', 'linear', 'sigmoid']}\n",
    "\n",
    "        grid = RandomizedSearchCV(estimator=svm.SVC(verbose=False), param_distributions=parameters, n_jobs=6, cv=_k,\n",
    "                                  n_iter=20)\n",
    "        grid.fit(x_train, y_train)\n",
    "        print(\"k:\", _k, \"Score:\", grid.score(x_test, y_test))\n",
    "        print(grid.best_estimator_)\n",
    "        model = grid.best_estimator_\n",
    "\n",
    "    pickle.dump(model, open(filename, 'wb'))\n"
   ]
  }
 ],
 "metadata": {
  "interpreter": {
   "hash": "9705cd9bb1cd3f75cacc64c830c816f4d5b8b46bb8973c8b095f871cd13babda"
  },
  "kernelspec": {
   "display_name": "Python 3.9.5 ('venv': venv)",
   "language": "python",
   "name": "python3"
  },
  "language_info": {
   "codemirror_mode": {
    "name": "ipython",
    "version": 3
   },
   "file_extension": ".py",
   "mimetype": "text/x-python",
   "name": "python",
   "nbconvert_exporter": "python",
   "pygments_lexer": "ipython3",
   "version": "3.9.5"
  },
  "orig_nbformat": 4
 },
 "nbformat": 4,
 "nbformat_minor": 2
}
