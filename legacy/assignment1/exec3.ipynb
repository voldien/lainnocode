{
 "cells": [
  {
   "cell_type": "code",
   "execution_count": 1,
   "metadata": {},
   "outputs": [],
   "source": [
    "import gzip\n",
    "import struct\n",
    "import time\n",
    "import matplotlib.pyplot as plt\n",
    "from array import array as pyarray\n",
    "\n",
    "from knn import *\n",
    "from knn import KNNClassifier\n"
   ]
  },
  {
   "cell_type": "code",
   "execution_count": 2,
   "metadata": {},
   "outputs": [],
   "source": [
    "kTestSet = [1, 3, 5, 7]\n",
    "funcSet = [euclidean, manhattan, minkowski]\n",
    "samplesSize = [10, 50, 100, 500, 1000, 2000,\n",
    "               3000, 4000, 6000, 8000, 10000, 40000, 60000]\n",
    "testSize = [500, 600, 700, 800, 900, 1000,\n",
    "            3000, 4000, 6000, 8000, 9000, 10000, 10000]\n"
   ]
  },
  {
   "cell_type": "code",
   "execution_count": 3,
   "metadata": {},
   "outputs": [],
   "source": [
    "\n",
    "def loadMNIST(imagePath, labelPath, size=1000, digits=np.arange(10)):\n",
    "    \"\"\"\n",
    "\n",
    "    :param imagePath:\n",
    "    :param labelPath:\n",
    "    :param size:\n",
    "    :param digits:\n",
    "    :return:\n",
    "    \"\"\"\n",
    "    N = size\n",
    "\n",
    "    with gzip.open(labelPath, 'rb') as finf:\n",
    "        magic_nr, size = struct.unpack(\">II\", finf.read(8))\n",
    "        lbl = pyarray(\"b\", finf.read())\n",
    "\n",
    "        ind = [k for k in range(size) if lbl[k] in digits]\n",
    "        labels = np.zeros((N, 1), dtype=np.int8)\n",
    "        for i in range(N):\n",
    "            labels[i] = lbl[ind[i]]\n",
    "        finf.close()\n",
    "\n",
    "    with gzip.open(imagePath, 'rb') as fimg:\n",
    "        magic_nr, size, rows, cols = struct.unpack(\">IIII\", fimg.read(16))\n",
    "        img = pyarray(\"B\", fimg.read())\n",
    "\n",
    "        ind = [k for k in range(size) if lbl[k] in digits]\n",
    "        images = np.zeros((N, rows * cols), dtype=np.uint8)\n",
    "\n",
    "        for i in range(N):  # int(len(ind) * size/100.)):\n",
    "            images[i] = np.array(img[ind[i] * rows * cols: (ind[i] + 1) * rows * cols]) \\\n",
    "                .reshape((rows * cols))\n",
    "\n",
    "        fimg.close()\n",
    "\n",
    "    labels = [label[0] for label in labels]\n",
    "    return images, labels\n",
    "\n",
    "\n",
    "MNISTImgTrain = \"train-images-idx3-ubyte.gz\"\n",
    "MNISTLabelTrain = \"train-labels-idx1-ubyte.gz\"\n",
    "MNISTImg = \"t10k-images-idx3-ubyte.gz\"\n",
    "MNISTLabel = \"t10k-labels-idx1-ubyte.gz\"\n",
    "\n",
    "# Test if the images are loaded correctly!\n",
    "train_img, train_lbl = loadMNIST(MNISTImgTrain, MNISTLabelTrain, 5)\n"
   ]
  },
  {
   "cell_type": "code",
   "execution_count": 4,
   "metadata": {},
   "outputs": [
    {
     "data": {
      "image/png": "[encoded data removed]",
      "text/plain": [
       "<Figure size 1440x288 with 5 Axes>"
      ]
     },
     "metadata": {
      "needs_background": "light"
     },
     "output_type": "display_data"
    }
   ],
   "source": [
    "\n",
    "\n",
    "plt.figure(figsize=(20, 4))\n",
    "for index, (image, label) in enumerate(zip(train_img[0:5], train_lbl[0:5])):\n",
    "    plt.subplot(1, 5, index + 1)\n",
    "    plt.imshow(np.reshape(image, (28, 28)), cmap=plt.cm.gray)\n",
    "    plt.title('Training: %i\\n' % label, fontsize=20)\n",
    "plt.show()\n"
   ]
  },
  {
   "cell_type": "code",
   "execution_count": 5,
   "metadata": {},
   "outputs": [
    {
     "name": "stdout",
     "output_type": "stream",
     "text": [
      "elapsed time (seconds): 148.99325728416443 train: 60000 test: 500 distance-method: euclidean k: 1 accuracy 0.522\n",
      "elapsed time (seconds): 149.69741582870483 train: 60000 test: 500 distance-method: euclidean k: 3 accuracy 0.482\n",
      "elapsed time (seconds): 149.3719437122345 train: 60000 test: 500 distance-method: euclidean k: 5 accuracy 0.438\n",
      "elapsed time (seconds): 147.69752430915833 train: 60000 test: 500 distance-method: euclidean k: 7 accuracy 0.428\n",
      "elapsed time (seconds): 149.2197139263153 train: 60000 test: 500 distance-method: manhattan k: 1 accuracy 0.476\n",
      "elapsed time (seconds): 147.69199132919312 train: 60000 test: 500 distance-method: manhattan k: 3 accuracy 0.426\n",
      "elapsed time (seconds): 148.91162109375 train: 60000 test: 500 distance-method: manhattan k: 5 accuracy 0.394\n",
      "elapsed time (seconds): 147.75855779647827 train: 60000 test: 500 distance-method: manhattan k: 7 accuracy 0.372\n",
      "elapsed time (seconds): 265.5753593444824 train: 60000 test: 500 distance-method: minkowski k: 1 accuracy 0.476\n",
      "elapsed time (seconds): 274.374489068985 train: 60000 test: 500 distance-method: minkowski k: 3 accuracy 0.56\n",
      "elapsed time (seconds): 277.9200463294983 train: 60000 test: 500 distance-method: minkowski k: 5 accuracy 0.646\n",
      "elapsed time (seconds): 292.6857862472534 train: 60000 test: 500 distance-method: minkowski k: 7 accuracy 0.682\n",
      "elapsed time (seconds): 178.17000222206116 train: 60000 test: 600 distance-method: euclidean k: 1 accuracy 0.5066666666666667\n",
      "elapsed time (seconds): 180.01965498924255 train: 60000 test: 600 distance-method: euclidean k: 3 accuracy 0.4666666666666667\n",
      "elapsed time (seconds): 180.9991660118103 train: 60000 test: 600 distance-method: euclidean k: 5 accuracy 0.4216666666666667\n",
      "elapsed time (seconds): 189.37709665298462 train: 60000 test: 600 distance-method: euclidean k: 7 accuracy 0.41\n",
      "elapsed time (seconds): 236.29243516921997 train: 60000 test: 600 distance-method: manhattan k: 1 accuracy 0.465\n",
      "elapsed time (seconds): 183.0199944972992 train: 60000 test: 600 distance-method: manhattan k: 3 accuracy 0.4083333333333333\n",
      "elapsed time (seconds): 179.62266492843628 train: 60000 test: 600 distance-method: manhattan k: 5 accuracy 0.38166666666666665\n",
      "elapsed time (seconds): 178.78298616409302 train: 60000 test: 600 distance-method: manhattan k: 7 accuracy 0.3616666666666667\n",
      "elapsed time (seconds): 317.5933802127838 train: 60000 test: 600 distance-method: minkowski k: 1 accuracy 0.465\n",
      "elapsed time (seconds): 326.1857748031616 train: 60000 test: 600 distance-method: minkowski k: 3 accuracy 0.5566666666666666\n",
      "elapsed time (seconds): 329.4436206817627 train: 60000 test: 600 distance-method: minkowski k: 5 accuracy 0.6283333333333333\n",
      "elapsed time (seconds): 344.052845954895 train: 60000 test: 600 distance-method: minkowski k: 7 accuracy 0.67\n",
      "elapsed time (seconds): 205.995689868927 train: 60000 test: 700 distance-method: euclidean k: 1 accuracy 0.4928571428571429\n",
      "elapsed time (seconds): 207.310528755188 train: 60000 test: 700 distance-method: euclidean k: 3 accuracy 0.4657142857142857\n",
      "elapsed time (seconds): 207.66348361968994 train: 60000 test: 700 distance-method: euclidean k: 5 accuracy 0.41714285714285715\n",
      "elapsed time (seconds): 207.73738026618958 train: 60000 test: 700 distance-method: euclidean k: 7 accuracy 0.4057142857142857\n",
      "elapsed time (seconds): 204.81565976142883 train: 60000 test: 700 distance-method: manhattan k: 1 accuracy 0.45571428571428574\n",
      "elapsed time (seconds): 203.27289271354675 train: 60000 test: 700 distance-method: manhattan k: 3 accuracy 0.4014285714285714\n",
      "elapsed time (seconds): 203.4975974559784 train: 60000 test: 700 distance-method: manhattan k: 5 accuracy 0.3757142857142857\n",
      "elapsed time (seconds): 204.92650723457336 train: 60000 test: 700 distance-method: manhattan k: 7 accuracy 0.3557142857142857\n",
      "elapsed time (seconds): 362.5746867656708 train: 60000 test: 700 distance-method: minkowski k: 1 accuracy 0.45571428571428574\n",
      "elapsed time (seconds): 371.9527461528778 train: 60000 test: 700 distance-method: minkowski k: 3 accuracy 0.5485714285714286\n",
      "elapsed time (seconds): 381.26533937454224 train: 60000 test: 700 distance-method: minkowski k: 5 accuracy 0.62\n",
      "elapsed time (seconds): 402.02601194381714 train: 60000 test: 700 distance-method: minkowski k: 7 accuracy 0.6585714285714286\n",
      "elapsed time (seconds): 234.94465804100037 train: 60000 test: 800 distance-method: euclidean k: 1 accuracy 0.49625\n",
      "elapsed time (seconds): 233.02654647827148 train: 60000 test: 800 distance-method: euclidean k: 3 accuracy 0.46375\n",
      "elapsed time (seconds): 232.57215070724487 train: 60000 test: 800 distance-method: euclidean k: 5 accuracy 0.41875\n",
      "elapsed time (seconds): 235.5380358695984 train: 60000 test: 800 distance-method: euclidean k: 7 accuracy 0.4075\n",
      "elapsed time (seconds): 235.87503290176392 train: 60000 test: 800 distance-method: manhattan k: 1 accuracy 0.4625\n",
      "elapsed time (seconds): 238.31994605064392 train: 60000 test: 800 distance-method: manhattan k: 3 accuracy 0.40375\n",
      "elapsed time (seconds): 235.81513452529907 train: 60000 test: 800 distance-method: manhattan k: 5 accuracy 0.37625\n",
      "elapsed time (seconds): 244.69367146492004 train: 60000 test: 800 distance-method: manhattan k: 7 accuracy 0.355\n",
      "elapsed time (seconds): 430.2058928012848 train: 60000 test: 800 distance-method: minkowski k: 1 accuracy 0.4625\n",
      "elapsed time (seconds): 443.35749554634094 train: 60000 test: 800 distance-method: minkowski k: 3 accuracy 0.55875\n",
      "elapsed time (seconds): 455.4857876300812 train: 60000 test: 800 distance-method: minkowski k: 5 accuracy 0.62625\n",
      "elapsed time (seconds): 482.03225111961365 train: 60000 test: 800 distance-method: minkowski k: 7 accuracy 0.665\n",
      "elapsed time (seconds): 281.6619894504547 train: 60000 test: 900 distance-method: euclidean k: 1 accuracy 0.48333333333333334\n",
      "elapsed time (seconds): 282.51881194114685 train: 60000 test: 900 distance-method: euclidean k: 3 accuracy 0.45444444444444443\n",
      "elapsed time (seconds): 278.22063994407654 train: 60000 test: 900 distance-method: euclidean k: 5 accuracy 0.41555555555555557\n",
      "elapsed time (seconds): 274.02113914489746 train: 60000 test: 900 distance-method: euclidean k: 7 accuracy 0.4011111111111111\n",
      "elapsed time (seconds): 266.739075422287 train: 60000 test: 900 distance-method: manhattan k: 1 accuracy 0.45444444444444443\n",
      "elapsed time (seconds): 260.8467628955841 train: 60000 test: 900 distance-method: manhattan k: 3 accuracy 0.39666666666666667\n",
      "elapsed time (seconds): 259.7841582298279 train: 60000 test: 900 distance-method: manhattan k: 5 accuracy 0.3688888888888889\n",
      "elapsed time (seconds): 262.14432096481323 train: 60000 test: 900 distance-method: manhattan k: 7 accuracy 0.3488888888888889\n",
      "elapsed time (seconds): 465.50476455688477 train: 60000 test: 900 distance-method: minkowski k: 1 accuracy 0.45444444444444443\n",
      "elapsed time (seconds): 476.5650131702423 train: 60000 test: 900 distance-method: minkowski k: 3 accuracy 0.5644444444444444\n",
      "elapsed time (seconds): 491.9048571586609 train: 60000 test: 900 distance-method: minkowski k: 5 accuracy 0.6288888888888889\n",
      "elapsed time (seconds): 524.2182886600494 train: 60000 test: 900 distance-method: minkowski k: 7 accuracy 0.6677777777777778\n",
      "elapsed time (seconds): 308.0069341659546 train: 60000 test: 1000 distance-method: euclidean k: 1 accuracy 0.484\n",
      "elapsed time (seconds): 304.6925311088562 train: 60000 test: 1000 distance-method: euclidean k: 3 accuracy 0.453\n",
      "elapsed time (seconds): 308.03549098968506 train: 60000 test: 1000 distance-method: euclidean k: 5 accuracy 0.415\n",
      "elapsed time (seconds): 306.5305132865906 train: 60000 test: 1000 distance-method: euclidean k: 7 accuracy 0.402\n",
      "elapsed time (seconds): 304.2197141647339 train: 60000 test: 1000 distance-method: manhattan k: 1 accuracy 0.459\n",
      "elapsed time (seconds): 303.62131357192993 train: 60000 test: 1000 distance-method: manhattan k: 3 accuracy 0.395\n",
      "elapsed time (seconds): 302.7739281654358 train: 60000 test: 1000 distance-method: manhattan k: 5 accuracy 0.368\n",
      "elapsed time (seconds): 304.6127965450287 train: 60000 test: 1000 distance-method: manhattan k: 7 accuracy 0.35\n",
      "elapsed time (seconds): 535.3442943096161 train: 60000 test: 1000 distance-method: minkowski k: 1 accuracy 0.459\n",
      "elapsed time (seconds): 549.6700835227966 train: 60000 test: 1000 distance-method: minkowski k: 3 accuracy 0.565\n",
      "elapsed time (seconds): 564.2122764587402 train: 60000 test: 1000 distance-method: minkowski k: 5 accuracy 0.633\n",
      "elapsed time (seconds): 580.6126592159271 train: 60000 test: 1000 distance-method: minkowski k: 7 accuracy 0.667\n"
     ]
    }
   ],
   "source": [
    "\n",
    "for s, t in zip(samplesSize[::-1], testSize):\n",
    "    X, y = loadMNIST(MNISTImgTrain, MNISTLabelTrain, 60000)\n",
    "    tX, ty = loadMNIST(MNISTImg, MNISTLabel, t)\n",
    "\n",
    "    # Test data\n",
    "    for func in funcSet:\n",
    "        for k in kTestSet:\n",
    "            ticks = time.time()\n",
    "            accuracy = 0\n",
    "            for trX, trY in zip(tX, ty):\n",
    "                digit = KNNClassifier(X, y, trX, k, func)\n",
    "                if digit == trY:\n",
    "                    accuracy = accuracy + 1\n",
    "\n",
    "            elapsedTime = time.time() - ticks\n",
    "            print(\"elapsed time (seconds):\", elapsedTime, \"train:\", len(X), \"test:\", len(ty), \"distance-method:\",\n",
    "                  func.__name__, \"k:\",\n",
    "                  k, \"accuracy\",\n",
    "                  accuracy / len(ty))\n",
    "\n",
    "    del X, y\n",
    "    del tX, ty\n"
   ]
  }
 ],
 "metadata": {
  "interpreter": {
   "hash": "9705cd9bb1cd3f75cacc64c830c816f4d5b8b46bb8973c8b095f871cd13babda"
  },
  "kernelspec": {
   "display_name": "Python 3.9.5 ('venv': venv)",
   "language": "python",
   "name": "python3"
  },
  "language_info": {
   "codemirror_mode": {
    "name": "ipython",
    "version": 3
   },
   "file_extension": ".py",
   "mimetype": "text/x-python",
   "name": "python",
   "nbconvert_exporter": "python",
   "pygments_lexer": "ipython3",
   "version": "3.9.5"
  },
  "orig_nbformat": 4
 },
 "nbformat": 4,
 "nbformat_minor": 2
}
