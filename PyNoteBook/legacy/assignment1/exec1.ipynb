{
 "cells": [
  {
   "cell_type": "code",
   "execution_count": 1,
   "metadata": {},
   "outputs": [],
   "source": [
    "import matplotlib.pyplot as plt\n",
    "import numpy as np\n",
    "import pandas as pd\n",
    "from matplotlib import style\n",
    "from matplotlib.colors import ListedColormap\n",
    "\n",
    "from knn import KNNClassifier, euclidean, manhattan, minkowski, classifyArray"
   ]
  },
  {
   "cell_type": "code",
   "execution_count": 2,
   "metadata": {},
   "outputs": [
    {
     "name": "stderr",
     "output_type": "stream",
     "text": [
      "/tmp/ipykernel_216692/4147717144.py:13: FutureWarning: In a future version of pandas all arguments of DataFrame.drop except for the argument 'labels' will be keyword-only.\n",
      "  X = np.array(df.drop(['id'], 1))\n"
     ]
    }
   ],
   "source": [
    "\n",
    "def getLabelColor(i):\n",
    "\treturn ['g', 'r', 'b', 'y'][i]\n",
    "\n",
    "# Training sets.\n",
    "kTestSet = [1, 3, 5, 7]\n",
    "funcSet = [euclidean, manhattan, minkowski]\n",
    "\n",
    "style.use('fast')\n",
    "\n",
    "df = pd.read_csv(\"microchips.csv\")\n",
    "\n",
    "# Train Data.\n",
    "X = np.array(df.drop(['id'], 1))\n",
    "y = np.array(df['id'])\n",
    "\n",
    "# Test data.\n",
    "test_X = [[-0.3, 1.0], [-0.5, -0.1], [0.6, 0.0]]\n",
    "test_Y = [0, 1, 1]"
   ]
  },
  {
   "cell_type": "code",
   "execution_count": 3,
   "metadata": {},
   "outputs": [
    {
     "data": {
      "image/png": "[encoded data removed]",
      "text/plain": [
       "<Figure size 432x288 with 1 Axes>"
      ]
     },
     "metadata": {
      "needs_background": "light"
     },
     "output_type": "display_data"
    }
   ],
   "source": [
    "\n",
    "# Display the original data set.\n",
    "plt.suptitle(\"kNN, microchips.csv, k = 1,3,5,7\", fontsize=16)\n",
    "for x, label in zip(X, y):\n",
    "\tplt.scatter(x[0], x[1], s=5, color=getLabelColor(label))\n",
    "plt.show()\n",
    "\n"
   ]
  },
  {
   "cell_type": "code",
   "execution_count": 4,
   "metadata": {},
   "outputs": [
    {
     "data": {
      "text/plain": [
       "Text(0.5, 0.98, 'kNN, microchips.csv, k = 1,3,5,7')"
      ]
     },
     "execution_count": 4,
     "metadata": {},
     "output_type": "execute_result"
    },
    {
     "data": {
      "image/png": "[encoded data removed]",
      "text/plain": [
       "<Figure size 432x288 with 4 Axes>"
      ]
     },
     "metadata": {
      "needs_background": "light"
     },
     "output_type": "display_data"
    }
   ],
   "source": [
    "#\n",
    "f, kplots = plt.subplots(2, 2)\n",
    "plt.suptitle(\"kNN, microchips.csv, k = 1,3,5,7\", fontsize=16)\n",
    "# for xplot in kplots:\n",
    "#    for yplot in xplot:\n",
    "#        for x, label in zip(X, y):\n",
    "#"
   ]
  },
  {
   "cell_type": "code",
   "execution_count": 5,
   "metadata": {},
   "outputs": [
    {
     "name": "stdout",
     "output_type": "stream",
     "text": [
      "k: 1  X test:  [-0.3, 1.0] \t\texpected: 0 actual: 1\n",
      "k: 1  X test:  [-0.5, -0.1] \t\texpected: 1 actual: 0\n",
      "k: 1  X test:  [0.6, 0.0] \t\texpected: 1 actual: 0\n",
      "k: 3  X test:  [-0.3, 1.0] \t\texpected: 0 actual: 0\n",
      "k: 3  X test:  [-0.5, -0.1] \t\texpected: 1 actual: 0\n",
      "k: 3  X test:  [0.6, 0.0] \t\texpected: 1 actual: 1\n",
      "k: 5  X test:  [-0.3, 1.0] \t\texpected: 0 actual: 0\n",
      "k: 5  X test:  [-0.5, -0.1] \t\texpected: 1 actual: 1\n",
      "k: 5  X test:  [0.6, 0.0] \t\texpected: 1 actual: 1\n",
      "k: 7  X test:  [-0.3, 1.0] \t\texpected: 0 actual: 0\n",
      "k: 7  X test:  [-0.5, -0.1] \t\texpected: 1 actual: 0\n",
      "k: 7  X test:  [0.6, 0.0] \t\texpected: 1 actual: 1\n"
     ]
    }
   ],
   "source": [
    "\n",
    "\n",
    "# For each k test.\n",
    "for i, k in enumerate(kTestSet):\n",
    "\taccuracy = 0\n",
    "\tplot = kplots[0 + int(i / 2)][i % 2]\n",
    "\n",
    "\t# Mesh plot colors\n",
    "\tcmap_light = ListedColormap(['#FFAAAA', '#AAFFAA', '#AAAAFF'])\n",
    "\tcmap_bold = ListedColormap(['#FF0000', '#00FF00', '#0000FF'])\n",
    "\n",
    "\th = .02\n",
    "\n",
    "\t#\n",
    "\tx_min, x_max = X[:, 0].min() - 1, X[:, 0].max() + 1\n",
    "\ty_min, y_max = X[:, 1].min() - 1, X[:, 1].max() + 1\n",
    "\txx, yy = np.meshgrid(np.arange(x_min, x_max, h),\n",
    "\t\t\t\t\t\t np.arange(y_min, y_max, h))\n",
    "\txy_mesh = np.c_[xx.ravel(), yy.ravel()]  # Turn to Nx2 matrix\n",
    "\n",
    "\t#\n",
    "\t#    plot.set_xlim(xx.min(), xx.max())\n",
    "\t#    plot.set_ylim(yy.min(), yy.max())\n",
    "\n",
    "\t#\n",
    "\tclasses = classifyArray(X, y, k, xy_mesh)  # Classify mesh\n",
    "\tclz_mesh = classes.reshape(xx.shape)  # Return to mesh shape\n",
    "\n",
    "\tplot.pcolormesh(xx, yy, clz_mesh, cmap=cmap_light)\n",
    "\n",
    "\tfor tX, tY in zip(test_X, test_Y):\n",
    "\t\tknn = KNNClassifier(X, y, tX, k)\n",
    "\t\tif knn == tY:\n",
    "\t\t\taccuracy = accuracy + 1\n",
    "\t\t# Check if correct\n",
    "\t\tprint(\"k:\", k, \" X test: \", tX, \"\\t\\texpected:\", tY, \"actual:\", knn)\n",
    "\n",
    "\t\tplot.scatter(tX[0], tX[1], s=40, color=getLabelColor(knn))\n",
    "\tplot.set_title(\"k={}, training error = {}, weights = {} - {}\".format(k, len(test_X) - accuracy, \"distance\",\n",
    "\t\t\t\t\t\t\t\t\t\t\t\t\t\t\t\t\t\t euclidean.__name__))\n",
    "\n",
    "\tfor _x, _y in zip(X, y):\n",
    "\t\tplot.scatter(_x[0], _x[1], s=5, color=getLabelColor(_y), marker='.', cmap=cmap_bold)\n",
    "\n",
    "plt.show()\n"
   ]
  }
 ],
 "metadata": {
  "interpreter": {
   "hash": "9705cd9bb1cd3f75cacc64c830c816f4d5b8b46bb8973c8b095f871cd13babda"
  },
  "kernelspec": {
   "display_name": "Python 3.9.5 ('venv': venv)",
   "language": "python",
   "name": "python3"
  },
  "language_info": {
   "codemirror_mode": {
    "name": "ipython",
    "version": 3
   },
   "file_extension": ".py",
   "mimetype": "text/x-python",
   "name": "python",
   "nbconvert_exporter": "python",
   "pygments_lexer": "ipython3",
   "version": "3.9.5"
  },
  "orig_nbformat": 4
 },
 "nbformat": 4,
 "nbformat_minor": 2
}
