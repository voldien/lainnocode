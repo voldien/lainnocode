{
 "cells": [
  {
   "cell_type": "code",
   "execution_count": null,
   "metadata": {},
   "outputs": [],
   "source": [
    "import matplotlib.pyplot as plt\n",
    "import numpy as np\n",
    "import pandas as pd\n",
    "from matplotlib import style\n",
    "from sklearn.linear_model import LinearRegression\n",
    "from sklearn.model_selection import train_test_split\n",
    "\n",
    "from regression import linear\n",
    "from statistics import corr, SE\n",
    "\n",
    "style.use('fivethirtyeight')\n",
    "np.set_printoptions(precision=4)\n"
   ]
  },
  {
   "cell_type": "code",
   "execution_count": null,
   "metadata": {},
   "outputs": [],
   "source": [
    "\n",
    "df = pd.read_csv(\"datasets/data_build_stories.csv\", header=None)\n",
    "\n",
    "# Train Data.\n",
    "X = np.array(df.drop(columns=1, axis=1))\n",
    "y = np.array(df.drop(columns=0, axis=1))\n",
    "\n",
    "x_train, x_test, y_train, y_test = train_test_split(\n",
    "    X, y, test_size=0.25, random_state=0)\n",
    "# gradient(Xe, beta, )\n",
    "model = LinearRegression()\n",
    "model.fit(x_train, y_train)\n",
    "predict = model.predict(x_test)\n"
   ]
  },
  {
   "cell_type": "code",
   "execution_count": null,
   "metadata": {},
   "outputs": [],
   "source": [
    "plt.scatter(x_train, y_train)\n",
    "plt.scatter(x_test, predict)\n",
    "plt.suptitle(\"Error {}\".format(model.score(x_test, y_test)))\n",
    "plt.show()\n"
   ]
  },
  {
   "cell_type": "code",
   "execution_count": null,
   "metadata": {},
   "outputs": [],
   "source": [
    "\n",
    "print(\"Coefficient {}\".format(model.coef_.tolist()))\n",
    "co = corr(X, y)\n",
    "print(\"correlation: \", co)\n"
   ]
  },
  {
   "cell_type": "code",
   "execution_count": null,
   "metadata": {},
   "outputs": [],
   "source": [
    "\n",
    "# model.coef_[0] = 0\n",
    "lineX = []\n",
    "lineY = []\n",
    "ei = []\n",
    "lineX.append(0)\n",
    "lineX.append(X.max())\n",
    "lineY.append(0 * model.coef_[0])\n",
    "lineY.append(X.max() * model.coef_[0])\n",
    "for _x, _y in zip(X, y):\n",
    "    fy = _x * model.coef_[0]\n",
    "    ei.append((fy - _y) ** 2)\n",
    "\n",
    "nErr = len(ei)\n",
    "MSE = nErr / sum(ei)\n",
    "plt.plot(lineX, lineY, c='r')\n",
    "plt.scatter(x_train, y_train, c='b')\n",
    "plt.scatter(x_test, predict, c='g')\n",
    "plt.suptitle(\"MSE {}\".format(MSE))\n",
    "plt.show()\n",
    "\n",
    "b1 = model.coef_[0]\n",
    "beta = [0, b1]\n",
    "predict = [linear(beta, _x) for _x in X]\n",
    "\n",
    "# Compute the confident\n",
    "CI = [b1 - 2.0 * SE(X, y, predict), b1 + 2.0 * SE(X, y, predict)]\n",
    "print(\"CI (Confident interval)\", CI)\n"
   ]
  }
 ],
 "metadata": {
  "language_info": {
   "name": "python"
  },
  "orig_nbformat": 4
 },
 "nbformat": 4,
 "nbformat_minor": 2
}
