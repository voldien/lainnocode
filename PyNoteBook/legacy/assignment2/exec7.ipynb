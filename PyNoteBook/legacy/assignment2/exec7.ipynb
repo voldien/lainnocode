{
 "cells": [
  {
   "cell_type": "code",
   "execution_count": 1,
   "metadata": {},
   "outputs": [],
   "source": [
    "import matplotlib.pyplot as plt\n",
    "import numpy as np\n",
    "import pandas as pd\n",
    "from matplotlib import style\n",
    "from matplotlib.colors import ListedColormap\n",
    "from sklearn import metrics\n",
    "from sklearn.linear_model import LogisticRegression\n",
    "from sklearn.model_selection import train_test_split, KFold\n",
    "from sklearn.preprocessing import PolynomialFeatures\n",
    "\n",
    "from graph import mesh2Dgrid\n",
    "\n",
    "style.use('fivethirtyeight')\n",
    "np.set_printoptions(precision=4)\n"
   ]
  },
  {
   "cell_type": "code",
   "execution_count": 2,
   "metadata": {},
   "outputs": [],
   "source": [
    "k = 5\n",
    "h = 0.01\n",
    "cmap_light = ListedColormap(['#FFAAAA', '#AAFFAA', '#AAAAFF'])  # mesh plot\n",
    "cmap_bold = ListedColormap(['#FF0000', '#00FF00', '#0000FF'])  # colors\n",
    "trainColor = ['r', 'b']\n",
    "predictColor = ['B', 'g']\n"
   ]
  },
  {
   "cell_type": "code",
   "execution_count": 3,
   "metadata": {},
   "outputs": [],
   "source": [
    "\n",
    "def get_score(model, x_train, y_train, x_test, y_test):\n",
    "    model.fit(x_train, y_train)\n",
    "    score = model.score(x_test, y_test)\n",
    "    return score\n",
    "\n",
    "\n",
    "def crossFold(model, X, y, k):\n",
    "    kf = KFold(n_splits=k)\n",
    "\n",
    "    scores = []\n",
    "    for train_index, test_index in kf.split(X):\n",
    "        X_train, X_test = X[train_index], X[test_index]\n",
    "        y_train, y_test = y[train_index], y[test_index]\n",
    "\n",
    "        score = get_score(model, X_train, y_train, X_test, y_test)\n",
    "        scores.append(score)\n",
    "    return scores\n"
   ]
  },
  {
   "cell_type": "code",
   "execution_count": 4,
   "metadata": {},
   "outputs": [
    {
     "name": "stderr",
     "output_type": "stream",
     "text": [
      "/tmp/ipykernel_115642/3507078879.py:6: FutureWarning: In a future version of pandas all arguments of DataFrame.drop except for the argument 'labels' will be keyword-only.\n",
      "  X = np.array(df.drop(['id'], 1))\n"
     ]
    }
   ],
   "source": [
    "\n",
    "degress = [i for i in range(1, 10)]\n",
    "\n",
    "df = pd.read_csv(\"datasets/microchips.csv\")\n",
    "\n",
    "# Train Data.\n",
    "X = np.array(df.drop(['id'], 1))\n",
    "y = np.array(df['id'])\n",
    "\n",
    "x_train, x_test, y_train, y_test = train_test_split(\n",
    "    X, y, test_size=0.25, random_state=0)\n"
   ]
  },
  {
   "cell_type": "code",
   "execution_count": 5,
   "metadata": {},
   "outputs": [
    {
     "name": "stdout",
     "output_type": "stream",
     "text": [
      "Degree 1\n",
      "Accuracy: 0.5\n",
      "Precision: 0.47058823529411764\n",
      "Recall: 0.5714285714285714\n"
     ]
    },
    {
     "name": "stderr",
     "output_type": "stream",
     "text": [
      "/tmp/ipykernel_115642/2776877432.py:39: MatplotlibDeprecationWarning: Auto-removal of grids by pcolor() and pcolormesh() is deprecated since 3.5 and will be removed two minor releases later; please call grid(False) first.\n",
      "  plti.pcolormesh(xx, yy, clz_mesh, cmap=cmap_light)\n"
     ]
    },
    {
     "ename": "ValueError",
     "evalue": "'color' kwarg must be a color or sequence of color specs.  For a sequence of values to be color-mapped, use the 'c' argument instead.",
     "output_type": "error",
     "traceback": [
      "\u001b[0;31m---------------------------------------------------------------------------\u001b[0m",
      "\u001b[0;31mValueError\u001b[0m                                Traceback (most recent call last)",
      "File \u001b[0;32m/media/programming/projects/machineLearning/ML/venv/lib/python3.9/site-packages/matplotlib/axes/_axes.py:4160\u001b[0m, in \u001b[0;36mAxes._parse_scatter_color_args\u001b[0;34m(c, edgecolors, kwargs, xsize, get_next_color_func)\u001b[0m\n\u001b[1;32m   <a href='file:///media/programming/projects/machineLearning/ML/venv/lib/python3.9/site-packages/matplotlib/axes/_axes.py?line=4158'>4159</a>\u001b[0m \u001b[39mtry\u001b[39;00m:\n\u001b[0;32m-> <a href='file:///media/programming/projects/machineLearning/ML/venv/lib/python3.9/site-packages/matplotlib/axes/_axes.py?line=4159'>4160</a>\u001b[0m     mcolors\u001b[39m.\u001b[39;49mto_rgba_array(kwcolor)\n\u001b[1;32m   <a href='file:///media/programming/projects/machineLearning/ML/venv/lib/python3.9/site-packages/matplotlib/axes/_axes.py?line=4160'>4161</a>\u001b[0m \u001b[39mexcept\u001b[39;00m \u001b[39mValueError\u001b[39;00m \u001b[39mas\u001b[39;00m err:\n",
      "File \u001b[0;32m/media/programming/projects/machineLearning/ML/venv/lib/python3.9/site-packages/matplotlib/colors.py:359\u001b[0m, in \u001b[0;36mto_rgba_array\u001b[0;34m(c, alpha)\u001b[0m\n\u001b[1;32m    <a href='file:///media/programming/projects/machineLearning/ML/venv/lib/python3.9/site-packages/matplotlib/colors.py?line=357'>358</a>\u001b[0m \u001b[39mif\u001b[39;00m \u001b[39misinstance\u001b[39m(c, \u001b[39mstr\u001b[39m):\n\u001b[0;32m--> <a href='file:///media/programming/projects/machineLearning/ML/venv/lib/python3.9/site-packages/matplotlib/colors.py?line=358'>359</a>\u001b[0m     \u001b[39mraise\u001b[39;00m \u001b[39mValueError\u001b[39;00m(\u001b[39m\"\u001b[39m\u001b[39mUsing a string of single character colors as \u001b[39m\u001b[39m\"\u001b[39m\n\u001b[1;32m    <a href='file:///media/programming/projects/machineLearning/ML/venv/lib/python3.9/site-packages/matplotlib/colors.py?line=359'>360</a>\u001b[0m                      \u001b[39m\"\u001b[39m\u001b[39ma color sequence is not supported. The colors can \u001b[39m\u001b[39m\"\u001b[39m\n\u001b[1;32m    <a href='file:///media/programming/projects/machineLearning/ML/venv/lib/python3.9/site-packages/matplotlib/colors.py?line=360'>361</a>\u001b[0m                      \u001b[39m\"\u001b[39m\u001b[39mbe passed as an explicit list instead.\u001b[39m\u001b[39m\"\u001b[39m)\n\u001b[1;32m    <a href='file:///media/programming/projects/machineLearning/ML/venv/lib/python3.9/site-packages/matplotlib/colors.py?line=362'>363</a>\u001b[0m \u001b[39mif\u001b[39;00m \u001b[39mlen\u001b[39m(c) \u001b[39m==\u001b[39m \u001b[39m0\u001b[39m:\n",
      "\u001b[0;31mValueError\u001b[0m: Using a string of single character colors as a color sequence is not supported. The colors can be passed as an explicit list instead.",
      "\nThe above exception was the direct cause of the following exception:\n",
      "\u001b[0;31mValueError\u001b[0m                                Traceback (most recent call last)",
      "\u001b[1;32m/media/programming/projects/machineLearning/ML/legacy/assignment2/exec7.ipynb Cell 5'\u001b[0m in \u001b[0;36m<cell line: 3>\u001b[0;34m()\u001b[0m\n\u001b[1;32m     <a href='vscode-notebook-cell:/media/programming/projects/machineLearning/ML/legacy/assignment2/exec7.ipynb#ch0000004?line=41'>42</a>\u001b[0m         plti\u001b[39m.\u001b[39mscatter(x_[\u001b[39m0\u001b[39m], x_[\u001b[39m1\u001b[39m], color\u001b[39m=\u001b[39mtrainColor[y_], cmap\u001b[39m=\u001b[39mcmap_bold, s\u001b[39m=\u001b[39m\u001b[39m5\u001b[39m)\n\u001b[1;32m     <a href='vscode-notebook-cell:/media/programming/projects/machineLearning/ML/legacy/assignment2/exec7.ipynb#ch0000004?line=43'>44</a>\u001b[0m     \u001b[39mfor\u001b[39;00m x_, y_ \u001b[39min\u001b[39;00m \u001b[39mzip\u001b[39m(x_test, predicted):\n\u001b[0;32m---> <a href='vscode-notebook-cell:/media/programming/projects/machineLearning/ML/legacy/assignment2/exec7.ipynb#ch0000004?line=44'>45</a>\u001b[0m         plti\u001b[39m.\u001b[39;49mscatter(x_[\u001b[39m0\u001b[39;49m], x_[\u001b[39m1\u001b[39;49m], color\u001b[39m=\u001b[39;49mpredictColor[y_], cmap\u001b[39m=\u001b[39;49mcmap_bold, s\u001b[39m=\u001b[39;49m\u001b[39m8\u001b[39;49m)\n\u001b[1;32m     <a href='vscode-notebook-cell:/media/programming/projects/machineLearning/ML/legacy/assignment2/exec7.ipynb#ch0000004?line=46'>47</a>\u001b[0m \u001b[39m#\u001b[39;00m\n\u001b[1;32m     <a href='vscode-notebook-cell:/media/programming/projects/machineLearning/ML/legacy/assignment2/exec7.ipynb#ch0000004?line=47'>48</a>\u001b[0m plt\u001b[39m.\u001b[39mshow()\n",
      "File \u001b[0;32m/media/programming/projects/machineLearning/ML/venv/lib/python3.9/site-packages/matplotlib/__init__.py:1412\u001b[0m, in \u001b[0;36m_preprocess_data.<locals>.inner\u001b[0;34m(ax, data, *args, **kwargs)\u001b[0m\n\u001b[1;32m   <a href='file:///media/programming/projects/machineLearning/ML/venv/lib/python3.9/site-packages/matplotlib/__init__.py?line=1408'>1409</a>\u001b[0m \u001b[39m@functools\u001b[39m\u001b[39m.\u001b[39mwraps(func)\n\u001b[1;32m   <a href='file:///media/programming/projects/machineLearning/ML/venv/lib/python3.9/site-packages/matplotlib/__init__.py?line=1409'>1410</a>\u001b[0m \u001b[39mdef\u001b[39;00m \u001b[39minner\u001b[39m(ax, \u001b[39m*\u001b[39margs, data\u001b[39m=\u001b[39m\u001b[39mNone\u001b[39;00m, \u001b[39m*\u001b[39m\u001b[39m*\u001b[39mkwargs):\n\u001b[1;32m   <a href='file:///media/programming/projects/machineLearning/ML/venv/lib/python3.9/site-packages/matplotlib/__init__.py?line=1410'>1411</a>\u001b[0m     \u001b[39mif\u001b[39;00m data \u001b[39mis\u001b[39;00m \u001b[39mNone\u001b[39;00m:\n\u001b[0;32m-> <a href='file:///media/programming/projects/machineLearning/ML/venv/lib/python3.9/site-packages/matplotlib/__init__.py?line=1411'>1412</a>\u001b[0m         \u001b[39mreturn\u001b[39;00m func(ax, \u001b[39m*\u001b[39;49m\u001b[39mmap\u001b[39;49m(sanitize_sequence, args), \u001b[39m*\u001b[39;49m\u001b[39m*\u001b[39;49mkwargs)\n\u001b[1;32m   <a href='file:///media/programming/projects/machineLearning/ML/venv/lib/python3.9/site-packages/matplotlib/__init__.py?line=1413'>1414</a>\u001b[0m     bound \u001b[39m=\u001b[39m new_sig\u001b[39m.\u001b[39mbind(ax, \u001b[39m*\u001b[39margs, \u001b[39m*\u001b[39m\u001b[39m*\u001b[39mkwargs)\n\u001b[1;32m   <a href='file:///media/programming/projects/machineLearning/ML/venv/lib/python3.9/site-packages/matplotlib/__init__.py?line=1414'>1415</a>\u001b[0m     auto_label \u001b[39m=\u001b[39m (bound\u001b[39m.\u001b[39marguments\u001b[39m.\u001b[39mget(label_namer)\n\u001b[1;32m   <a href='file:///media/programming/projects/machineLearning/ML/venv/lib/python3.9/site-packages/matplotlib/__init__.py?line=1415'>1416</a>\u001b[0m                   \u001b[39mor\u001b[39;00m bound\u001b[39m.\u001b[39mkwargs\u001b[39m.\u001b[39mget(label_namer))\n",
      "File \u001b[0;32m/media/programming/projects/machineLearning/ML/venv/lib/python3.9/site-packages/matplotlib/axes/_axes.py:4387\u001b[0m, in \u001b[0;36mAxes.scatter\u001b[0;34m(self, x, y, s, c, marker, cmap, norm, vmin, vmax, alpha, linewidths, edgecolors, plotnonfinite, **kwargs)\u001b[0m\n\u001b[1;32m   <a href='file:///media/programming/projects/machineLearning/ML/venv/lib/python3.9/site-packages/matplotlib/axes/_axes.py?line=4383'>4384</a>\u001b[0m \u001b[39mif\u001b[39;00m edgecolors \u001b[39mis\u001b[39;00m \u001b[39mNone\u001b[39;00m:\n\u001b[1;32m   <a href='file:///media/programming/projects/machineLearning/ML/venv/lib/python3.9/site-packages/matplotlib/axes/_axes.py?line=4384'>4385</a>\u001b[0m     orig_edgecolor \u001b[39m=\u001b[39m kwargs\u001b[39m.\u001b[39mget(\u001b[39m'\u001b[39m\u001b[39medgecolor\u001b[39m\u001b[39m'\u001b[39m, \u001b[39mNone\u001b[39;00m)\n\u001b[1;32m   <a href='file:///media/programming/projects/machineLearning/ML/venv/lib/python3.9/site-packages/matplotlib/axes/_axes.py?line=4385'>4386</a>\u001b[0m c, colors, edgecolors \u001b[39m=\u001b[39m \\\n\u001b[0;32m-> <a href='file:///media/programming/projects/machineLearning/ML/venv/lib/python3.9/site-packages/matplotlib/axes/_axes.py?line=4386'>4387</a>\u001b[0m     \u001b[39mself\u001b[39;49m\u001b[39m.\u001b[39;49m_parse_scatter_color_args(\n\u001b[1;32m   <a href='file:///media/programming/projects/machineLearning/ML/venv/lib/python3.9/site-packages/matplotlib/axes/_axes.py?line=4387'>4388</a>\u001b[0m         c, edgecolors, kwargs, x\u001b[39m.\u001b[39;49msize,\n\u001b[1;32m   <a href='file:///media/programming/projects/machineLearning/ML/venv/lib/python3.9/site-packages/matplotlib/axes/_axes.py?line=4388'>4389</a>\u001b[0m         get_next_color_func\u001b[39m=\u001b[39;49m\u001b[39mself\u001b[39;49m\u001b[39m.\u001b[39;49m_get_patches_for_fill\u001b[39m.\u001b[39;49mget_next_color)\n\u001b[1;32m   <a href='file:///media/programming/projects/machineLearning/ML/venv/lib/python3.9/site-packages/matplotlib/axes/_axes.py?line=4390'>4391</a>\u001b[0m \u001b[39mif\u001b[39;00m plotnonfinite \u001b[39mand\u001b[39;00m colors \u001b[39mis\u001b[39;00m \u001b[39mNone\u001b[39;00m:\n\u001b[1;32m   <a href='file:///media/programming/projects/machineLearning/ML/venv/lib/python3.9/site-packages/matplotlib/axes/_axes.py?line=4391'>4392</a>\u001b[0m     c \u001b[39m=\u001b[39m np\u001b[39m.\u001b[39mma\u001b[39m.\u001b[39mmasked_invalid(c)\n",
      "File \u001b[0;32m/media/programming/projects/machineLearning/ML/venv/lib/python3.9/site-packages/matplotlib/axes/_axes.py:4162\u001b[0m, in \u001b[0;36mAxes._parse_scatter_color_args\u001b[0;34m(c, edgecolors, kwargs, xsize, get_next_color_func)\u001b[0m\n\u001b[1;32m   <a href='file:///media/programming/projects/machineLearning/ML/venv/lib/python3.9/site-packages/matplotlib/axes/_axes.py?line=4159'>4160</a>\u001b[0m     mcolors\u001b[39m.\u001b[39mto_rgba_array(kwcolor)\n\u001b[1;32m   <a href='file:///media/programming/projects/machineLearning/ML/venv/lib/python3.9/site-packages/matplotlib/axes/_axes.py?line=4160'>4161</a>\u001b[0m \u001b[39mexcept\u001b[39;00m \u001b[39mValueError\u001b[39;00m \u001b[39mas\u001b[39;00m err:\n\u001b[0;32m-> <a href='file:///media/programming/projects/machineLearning/ML/venv/lib/python3.9/site-packages/matplotlib/axes/_axes.py?line=4161'>4162</a>\u001b[0m     \u001b[39mraise\u001b[39;00m \u001b[39mValueError\u001b[39;00m(\n\u001b[1;32m   <a href='file:///media/programming/projects/machineLearning/ML/venv/lib/python3.9/site-packages/matplotlib/axes/_axes.py?line=4162'>4163</a>\u001b[0m         \u001b[39m\"\u001b[39m\u001b[39m'\u001b[39m\u001b[39mcolor\u001b[39m\u001b[39m'\u001b[39m\u001b[39m kwarg must be a color or sequence of color \u001b[39m\u001b[39m\"\u001b[39m\n\u001b[1;32m   <a href='file:///media/programming/projects/machineLearning/ML/venv/lib/python3.9/site-packages/matplotlib/axes/_axes.py?line=4163'>4164</a>\u001b[0m         \u001b[39m\"\u001b[39m\u001b[39mspecs.  For a sequence of values to be color-mapped, use \u001b[39m\u001b[39m\"\u001b[39m\n\u001b[1;32m   <a href='file:///media/programming/projects/machineLearning/ML/venv/lib/python3.9/site-packages/matplotlib/axes/_axes.py?line=4164'>4165</a>\u001b[0m         \u001b[39m\"\u001b[39m\u001b[39mthe \u001b[39m\u001b[39m'\u001b[39m\u001b[39mc\u001b[39m\u001b[39m'\u001b[39m\u001b[39m argument instead.\u001b[39m\u001b[39m\"\u001b[39m) \u001b[39mfrom\u001b[39;00m \u001b[39merr\u001b[39;00m\n\u001b[1;32m   <a href='file:///media/programming/projects/machineLearning/ML/venv/lib/python3.9/site-packages/matplotlib/axes/_axes.py?line=4165'>4166</a>\u001b[0m \u001b[39mif\u001b[39;00m edgecolors \u001b[39mis\u001b[39;00m \u001b[39mNone\u001b[39;00m:\n\u001b[1;32m   <a href='file:///media/programming/projects/machineLearning/ML/venv/lib/python3.9/site-packages/matplotlib/axes/_axes.py?line=4166'>4167</a>\u001b[0m     edgecolors \u001b[39m=\u001b[39m kwcolor\n",
      "\u001b[0;31mValueError\u001b[0m: 'color' kwarg must be a color or sequence of color specs.  For a sequence of values to be color-mapped, use the 'c' argument instead."
     ]
    },
    {
     "data": {
      "image/png": "[encoded data removed]",
      "text/plain": [
       "<Figure size 432x288 with 1 Axes>"
      ]
     },
     "metadata": {},
     "output_type": "display_data"
    }
   ],
   "source": [
    "\n",
    "#\n",
    "plt.suptitle(\"Logistic Regression {}\".format(\"microchips.csv\"))\n",
    "for d in degress:\n",
    "\n",
    "    # Create polynomial.\n",
    "    poly = PolynomialFeatures(d, include_bias=False)\n",
    "    Xdeg = poly.fit_transform(x_train)\n",
    "    XTdeg = poly.fit_transform(x_test)\n",
    "\n",
    "    # Train model.\n",
    "    model = LogisticRegression(C=1.0, penalty='l2', solver='lbfgs')\n",
    "    model.fit(Xdeg, y_train)\n",
    "\n",
    "    #\n",
    "    score = model.score(XTdeg, y_test)\n",
    "    predicted = model.predict(XTdeg)\n",
    "    cm = metrics.confusion_matrix(y_test, predicted)\n",
    "    print(\"Degree {}\".format(d))\n",
    "    print(\"Accuracy:\", metrics.accuracy_score(y_test, predicted))\n",
    "    print(\"Precision:\", metrics.precision_score(y_test, predicted))\n",
    "    print(\"Recall:\", metrics.recall_score(y_test, predicted))\n",
    "\n",
    "    #\n",
    "    plti = plt.subplot(3, 3, d)\n",
    "    plti.set_xlabel(\"X\")\n",
    "    plti.set_ylabel(\"Y\")\n",
    "    plti.set_title(\"Degree {} : score {}\".format(d, round(score, 4)))\n",
    "\n",
    "    xx, yy, x1, x2 = mesh2Dgrid((-1.5, -1.5), (1.5, 1.5), h)\n",
    "\n",
    "    # Create map of all point to test.\n",
    "    map = poly.fit_transform([[_x, _y] for _x, _y in zip(x1, x2)])\n",
    "\n",
    "    #\n",
    "    predictedMap = model.predict(map)\n",
    "    # results = results > 0.5\n",
    "\n",
    "    clz_mesh = predictedMap.reshape(xx.shape)  # return to mesh format\n",
    "    plti.pcolormesh(xx, yy, clz_mesh, cmap=cmap_light)\n",
    "\n",
    "    for x_, y_ in zip(x_train, y_train):\n",
    "        plti.scatter(x_[0], x_[1], color=trainColor[y_], cmap=cmap_bold, s=5)\n",
    "\n",
    "    for x_, y_ in zip(x_test, predicted):\n",
    "        plti.scatter(x_[0], x_[1], color=predictColor[y_], cmap=cmap_bold, s=8)\n",
    "\n",
    "#\n",
    "plt.show()\n"
   ]
  },
  {
   "cell_type": "code",
   "execution_count": null,
   "metadata": {},
   "outputs": [],
   "source": [
    "\n",
    "# Cross validation\n",
    "for d in degress:\n",
    "\n",
    "    # Create polynomial.\n",
    "    poly = PolynomialFeatures(d, include_bias=False)\n",
    "    Xdeg = poly.fit_transform(X)\n",
    "    XTdeg = poly.fit_transform(x_test)\n",
    "\n",
    "    # Train model.\n",
    "    model = LogisticRegression(C=1.0, penalty='l2', solver='lbfgs')\n",
    "    Regscores = crossFold(model, Xdeg, y, k)\n",
    "\n",
    "    model = LogisticRegression(C=999999.0, penalty='l2', solver='lbfgs')\n",
    "    Unscores = crossFold(model, Xdeg, y, k)\n",
    "\n",
    "    plti = plt.subplot(3, 3, d)\n",
    "    for i, regSc in enumerate(Regscores):\n",
    "        # label=\"Regularization\")\n",
    "        plti.scatter(i + 1, regSc, color='b', cmap=cmap_bold)\n",
    "    for i, UnregSc in enumerate(Unscores):\n",
    "        # label=\"Without regularization\")\n",
    "        plti.scatter(i + 1, UnregSc, color='r', cmap=cmap_bold)\n",
    "\n",
    "    plti.legend(loc='upper left')\n",
    "    plti.set_xlabel(\"K:nth fold\")\n",
    "    plti.set_ylabel(\"Score\")\n",
    "    plti.set_title(\"Degree {}\".format(d))\n",
    "\n",
    "plt.show()\n",
    "print(\"Blue: Regularization \\nRed: Without regularization\")\n"
   ]
  }
 ],
 "metadata": {
  "interpreter": {
   "hash": "9705cd9bb1cd3f75cacc64c830c816f4d5b8b46bb8973c8b095f871cd13babda"
  },
  "kernelspec": {
   "display_name": "Python 3.9.5 ('venv': venv)",
   "language": "python",
   "name": "python3"
  },
  "language_info": {
   "codemirror_mode": {
    "name": "ipython",
    "version": 3
   },
   "file_extension": ".py",
   "mimetype": "text/x-python",
   "name": "python",
   "nbconvert_exporter": "python",
   "pygments_lexer": "ipython3",
   "version": "3.9.5"
  },
  "orig_nbformat": 4
 },
 "nbformat": 4,
 "nbformat_minor": 2
}
