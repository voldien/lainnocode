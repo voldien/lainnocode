{
 "cells": [
  {
   "cell_type": "markdown",
   "metadata": {},
   "source": []
  },
  {
   "cell_type": "code",
   "execution_count": 1,
   "metadata": {},
   "outputs": [
    {
     "name": "stdout",
     "output_type": "stream",
     "text": [
      "\u001b[33mWARNING: You are using pip version 21.3.1; however, version 22.1.2 is available.\n",
      "You should consider upgrading via the '/media/programming/projects/machineLearning/ML/venv/bin/python -m pip install --upgrade pip' command.\u001b[0m\n",
      "Note: you may need to restart the kernel to use updated packages.\n"
     ]
    }
   ],
   "source": [
    "%pip install -q tensorflow-gpu gym keras keras-rl2 pyvirtualdisplay pyglet\n"
   ]
  },
  {
   "cell_type": "code",
   "execution_count": 2,
   "metadata": {},
   "outputs": [],
   "source": [
    "from gym import Env\n",
    "from gym.spaces import Discrete, Box\n",
    "import numpy as np\n",
    "import random\n",
    "import matplotlib.pyplot as plt\n",
    "import pyvirtualdisplay\n",
    "import PIL.Image\n",
    "from gym.wrappers import RecordVideo\n"
   ]
  },
  {
   "cell_type": "code",
   "execution_count": 3,
   "metadata": {},
   "outputs": [],
   "source": [
    "display = pyvirtualdisplay.Display(visible=0, size=(28, 28)).start()"
   ]
  },
  {
   "cell_type": "code",
   "execution_count": 54,
   "metadata": {},
   "outputs": [],
   "source": [
    "class SnakeWorldEnv(Env):\n",
    "    metadata = {'render_modes': ['human']}\n",
    "\n",
    "    def __init__(self):\n",
    "        world_size = (28, 28)\n",
    "        # Actions we can take, down, stay, up\n",
    "        self.action_space = Discrete(4)\n",
    "        self.observation_space = Box(low=np.array([0]), high=np.array([2]), dtype=np.float32)\n",
    "\n",
    "        # World Space\n",
    "        self.state = np.zeros(shape=world_size).astype(dtype='float32')\n",
    "\n",
    "        self.snake_length = 3\n",
    "        self.snake_head_position = (0, 0)\n",
    "        self.apple_position = (0, 0)\n",
    "        self.last_time_grown = 0\n",
    "\n",
    "    def step(self, action):\n",
    "\n",
    "        done = False\n",
    "        reward = 1\n",
    "\n",
    "        # Update params.\n",
    "        # Apply action\n",
    "        # Remove head from previous.\n",
    "        self.state[int(self.snake_head_position[0]), int(self.snake_head_position[1])] = 0\n",
    "        # Move the last sequence to the next position.\n",
    "        if action == 0:\n",
    "            self.snake_head_position += np.array([1, 0])\n",
    "        if action == 1:\n",
    "            self.snake_head_position += np.array([-1, 0])\n",
    "        if action == 2:\n",
    "            self.snake_head_position += np.array([0, 1])\n",
    "        if action == 3:\n",
    "            self.snake_head_position += np.array([0, -1])\n",
    "\n",
    "        if self.snake_head_position[0] >= 28 or self.snake_head_position[0] < 0:\n",
    "            done = True\n",
    " #           reward = 0\n",
    "        if self.snake_head_position[1] >= 28 or self.snake_head_position[1] < 0:\n",
    "            done = True\n",
    "#            reward = -200\n",
    "        \n",
    "        if not done:\n",
    "            # Update new position\n",
    "            self.state[int(self.snake_head_position[0]), int(self.snake_head_position[1])] = 1\n",
    "\n",
    "            #\n",
    "            self.last_time_grown += 1\n",
    "\n",
    "            apple_consumed = False\n",
    "            # If snake overlap.\n",
    "\n",
    "            if self.state[self.apple_position[0], self.apple_position[1]] == 1:\n",
    "                apple_consumed = True\n",
    "            # Calculate reward\n",
    "            # If closer. small reward, get apple. big reward.\n",
    "            if apple_consumed:\n",
    "                reward = 500 + self.snake_length * 2\n",
    "                self.snake_length += 1\n",
    "                self.last_time_grown = 0\n",
    "                \n",
    "                # Update apple position\n",
    "                self.state[self.apple_position[0], self.apple_position[1]] = 0\n",
    "                self.apple_position = np.random.randint(size=(2,), low=0, high=28)\n",
    "                self.state[self.apple_position[0], self.apple_position[1]] = 2\n",
    "            else:\n",
    "                # Check if timeout.\n",
    "                if self.last_time_grown >= 200 - self.snake_length:\n",
    "                    done = True\n",
    "                #    reward = -60\n",
    "                else:\n",
    "                    done = False\n",
    "\n",
    "        # Set placeholder for info\n",
    "        info = {}\n",
    "\n",
    "        # Return step information\n",
    "        return np.squeeze(np.array(self.state.flatten(), dtype=np.float32)), reward, done, info\n",
    "\n",
    "    def render(self, mode=\"\"):\n",
    "        fig = plt.figure(\"\")\n",
    "        plt.imshow(self.state)\n",
    "        plt.scatter(self.apple_position[1], self.apple_position[0])\n",
    "        plt.close()\n",
    "        fig.canvas.draw()\n",
    "        data = np.frombuffer(fig.canvas.tostring_rgb(), dtype=np.uint8)\n",
    "        data = data.reshape(fig.canvas.get_width_height()[::-1] + (3,))\n",
    "\n",
    "        return data\n",
    "\n",
    "    def reset(self):\n",
    "        self.snake_length = 3\n",
    "        self.snake_head_position = np.asarray(self.state.shape, dtype=int) / 2\n",
    "        self.snake_last_position = np.asarray(self.snake_head_position - (0, 3))\n",
    "\n",
    "        self.state = np.zeros(shape=self.state.shape).astype(dtype='float32')\n",
    "\n",
    "#        for x in range(0, self.snake_length):\n",
    "        self.state[int(self.snake_head_position[0]), int(self.snake_head_position[1])] = 1\n",
    "\n",
    "        self.apple_position = np.random.randint(size=(2,), low=0, high=28)\n",
    "        self.state[self.apple_position[0], self.apple_position[1]] = 2\n",
    "        self.last_time_grown = 0\n",
    "\n",
    "        result = np.squeeze(np.array(self.state.flatten(), dtype=np.float32))\n",
    "        return result.reshape(28*28)\n"
   ]
  },
  {
   "cell_type": "code",
   "execution_count": 55,
   "metadata": {},
   "outputs": [],
   "source": [
    "env = SnakeWorldEnv()"
   ]
  },
  {
   "cell_type": "code",
   "execution_count": 56,
   "metadata": {},
   "outputs": [
    {
     "data": {
      "image/png": "[encoded data removed]",
      "text/plain": [
       "<PIL.Image.Image image mode=RGB size=432x288>"
      ]
     },
     "execution_count": 56,
     "metadata": {},
     "output_type": "execute_result"
    }
   ],
   "source": [
    "env.reset()\n",
    "PIL.Image.fromarray(env.render())\n"
   ]
  },
  {
   "cell_type": "code",
   "execution_count": 57,
   "metadata": {},
   "outputs": [],
   "source": [
    "env = RecordVideo(env, video_folder='video', step_trigger=lambda e: True)\n",
    "env.start_video_recorder()\n"
   ]
  },
  {
   "cell_type": "code",
   "execution_count": 58,
   "metadata": {},
   "outputs": [
    {
     "data": {
      "image/png": "[encoded data removed]",
      "text/plain": [
       "<PIL.Image.Image image mode=RGB size=432x288>"
      ]
     },
     "execution_count": 58,
     "metadata": {},
     "output_type": "execute_result"
    }
   ],
   "source": [
    "env.reset()\n",
    "PIL.Image.fromarray(env.render())"
   ]
  },
  {
   "cell_type": "code",
   "execution_count": 59,
   "metadata": {},
   "outputs": [
    {
     "name": "stdout",
     "output_type": "stream",
     "text": [
      "(784,) float32\n"
     ]
    }
   ],
   "source": [
    "observation = env.reset()\n",
    "print(observation.shape, observation.dtype)"
   ]
  },
  {
   "cell_type": "code",
   "execution_count": null,
   "metadata": {},
   "outputs": [],
   "source": []
  },
  {
   "cell_type": "code",
   "execution_count": 60,
   "metadata": {},
   "outputs": [],
   "source": [
    "import numpy as np\n",
    "from tensorflow.keras.models import Sequential\n",
    "from tensorflow.keras.layers import Dense, Flatten\n",
    "from tensorflow.keras.optimizers import Adam\n",
    "from tensorflow import keras"
   ]
  },
  {
   "cell_type": "code",
   "execution_count": 61,
   "metadata": {},
   "outputs": [],
   "source": [
    "states = env.state.shape\n",
    "actions = env.action_space.n"
   ]
  },
  {
   "cell_type": "code",
   "execution_count": 62,
   "metadata": {},
   "outputs": [
    {
     "data": {
      "text/plain": [
       "4"
      ]
     },
     "execution_count": 62,
     "metadata": {},
     "output_type": "execute_result"
    }
   ],
   "source": [
    "actions\n"
   ]
  },
  {
   "cell_type": "code",
   "execution_count": 63,
   "metadata": {},
   "outputs": [
    {
     "data": {
      "text/plain": [
       "(28, 28)"
      ]
     },
     "execution_count": 63,
     "metadata": {},
     "output_type": "execute_result"
    }
   ],
   "source": [
    "states"
   ]
  },
  {
   "cell_type": "code",
   "execution_count": 64,
   "metadata": {},
   "outputs": [],
   "source": [
    "def build_model(states, actions):\n",
    "    model = Sequential(name=\"\")    \n",
    "    model.add(keras.layers.Input((1, 784)))\n",
    "    model.add(keras.layers.Flatten())\n",
    "    model.add(Dense(units=48, activation='relu'))\n",
    "    model.add(Dense(units=24, activation='relu'))\n",
    "\n",
    "    model.add(Dense(units=actions, activation='relu'))\n",
    "    return model\n"
   ]
  },
  {
   "cell_type": "code",
   "execution_count": 65,
   "metadata": {},
   "outputs": [
    {
     "name": "stdout",
     "output_type": "stream",
     "text": [
      "Model: \"sequential_4\"\n",
      "_________________________________________________________________\n",
      " Layer (type)                Output Shape              Param #   \n",
      "=================================================================\n",
      " flatten_4 (Flatten)         (None, 784)               0         \n",
      "                                                                 \n",
      " dense_12 (Dense)            (None, 48)                37680     \n",
      "                                                                 \n",
      " dense_13 (Dense)            (None, 24)                1176      \n",
      "                                                                 \n",
      " dense_14 (Dense)            (None, 4)                 100       \n",
      "                                                                 \n",
      "=================================================================\n",
      "Total params: 38,956\n",
      "Trainable params: 38,956\n",
      "Non-trainable params: 0\n",
      "_________________________________________________________________\n"
     ]
    }
   ],
   "source": [
    "del model \n",
    "model = build_model(observation.shape, actions)\n",
    "model.summary()"
   ]
  },
  {
   "cell_type": "code",
   "execution_count": 66,
   "metadata": {},
   "outputs": [],
   "source": [
    "\n",
    "#env = tf_py_environment.TFPyEnvironment(env)\n"
   ]
  },
  {
   "cell_type": "code",
   "execution_count": 67,
   "metadata": {},
   "outputs": [],
   "source": [
    "from rl.agents import DQNAgent\n",
    "from rl.policy import BoltzmannQPolicy\n",
    "from rl.memory import SequentialMemory"
   ]
  },
  {
   "cell_type": "code",
   "execution_count": 68,
   "metadata": {},
   "outputs": [],
   "source": [
    "def build_agent(model, actions):\n",
    "    policy = BoltzmannQPolicy()\n",
    "    memory = SequentialMemory(limit=50000, window_length=1)\n",
    "    dqn = DQNAgent(model=model, memory=memory, policy=policy, \n",
    "                  nb_actions=actions, nb_steps_warmup=10, target_model_update=1e-2)\n",
    "    return dqn"
   ]
  },
  {
   "cell_type": "code",
   "execution_count": 69,
   "metadata": {},
   "outputs": [
    {
     "name": "stdout",
     "output_type": "stream",
     "text": [
      "Training for 100000 steps ...\n",
      "Interval 1 (0 steps performed)\n",
      "10000/10000 [==============================] - 59s 6ms/step - reward: 1.1010\n",
      "87 episodes - episode_reward: 125.299 [15.000, 857.000] - loss: 55.976 - mae: 77.000 - mean_q: 112.338\n",
      "\n",
      "Interval 2 (10000 steps performed)\n",
      "10000/10000 [==============================] - 58s 6ms/step - reward: 1.2525\n",
      "74 episodes - episode_reward: 169.459 [14.000, 702.000] - loss: 229.317 - mae: 199.627 - mean_q: 290.090\n",
      "\n",
      "Interval 3 (20000 steps performed)\n",
      "10000/10000 [==============================] - 57s 6ms/step - reward: 1.3030\n",
      "83 episodes - episode_reward: 156.964 [14.000, 646.000] - loss: 1488.969 - mae: 468.078 - mean_q: 664.261\n",
      "\n",
      "Interval 4 (30000 steps performed)\n",
      "10000/10000 [==============================] - 58s 6ms/step - reward: 1.5052\n",
      "66 episodes - episode_reward: 229.455 [14.000, 1363.000] - loss: 6249.343 - mae: 1004.418 - mean_q: 1392.799\n",
      "\n",
      "Interval 5 (40000 steps performed)\n",
      "10000/10000 [==============================] - 58s 6ms/step - reward: 1.2527\n",
      "63 episodes - episode_reward: 197.317 [16.000, 1325.000] - loss: 14551.719 - mae: 1625.042 - mean_q: 2231.353\n",
      "\n",
      "Interval 6 (50000 steps performed)\n",
      "10000/10000 [==============================] - 60s 6ms/step - reward: 1.1515\n",
      "62 episodes - episode_reward: 184.742 [25.000, 877.000] - loss: 25241.793 - mae: 2143.728 - mean_q: 2917.883\n",
      "\n",
      "Interval 7 (60000 steps performed)\n",
      "10000/10000 [==============================] - 60s 6ms/step - reward: 1.2020\n",
      "69 episodes - episode_reward: 175.870 [22.000, 852.000] - loss: 36839.176 - mae: 2633.180 - mean_q: 3560.838\n",
      "\n",
      "Interval 8 (70000 steps performed)\n",
      "10000/10000 [==============================] - 60s 6ms/step - reward: 1.1515\n",
      "63 episodes - episode_reward: 181.619 [26.000, 885.000] - loss: 47160.242 - mae: 3081.440 - mean_q: 4155.686\n",
      "\n",
      "Interval 9 (80000 steps performed)\n",
      "10000/10000 [==============================] - 60s 6ms/step - reward: 1.1517\n",
      "60 episodes - episode_reward: 191.067 [36.000, 1314.000] - loss: 64422.125 - mae: 3630.451 - mean_q: 4896.625\n",
      "\n",
      "Interval 10 (90000 steps performed)\n",
      "10000/10000 [==============================] - 60s 6ms/step - reward: 1.2525\n",
      "done, took 591.138 seconds\n"
     ]
    },
    {
     "data": {
      "text/plain": [
       "<keras.callbacks.History at 0x7f09a998d100>"
      ]
     },
     "execution_count": 69,
     "metadata": {},
     "output_type": "execute_result"
    }
   ],
   "source": [
    "dqn = build_agent(model, actions)\n",
    "\n",
    "dqn.compile(Adam(learning_rate=1e-3), metrics=['mae'])\n",
    "dqn.fit(env, nb_steps=100000, visualize=False, verbose=1)"
   ]
  },
  {
   "cell_type": "code",
   "execution_count": 71,
   "metadata": {},
   "outputs": [
    {
     "name": "stdout",
     "output_type": "stream",
     "text": [
      "Testing for 100 episodes ...\n",
      "Episode 1: reward: 197.000, steps: 197\n",
      "Episode 2: reward: 197.000, steps: 197\n",
      "Episode 3: reward: 197.000, steps: 197\n",
      "Episode 4: reward: 197.000, steps: 197\n",
      "Episode 5: reward: 197.000, steps: 197\n",
      "Episode 6: reward: 197.000, steps: 197\n",
      "Episode 7: reward: 702.000, steps: 197\n",
      "Episode 8: reward: 25.000, steps: 25\n",
      "Episode 9: reward: 22.000, steps: 22\n",
      "Episode 10: reward: 197.000, steps: 197\n",
      "Episode 11: reward: 197.000, steps: 197\n",
      "Episode 12: reward: 197.000, steps: 197\n",
      "Episode 13: reward: 197.000, steps: 197\n",
      "Episode 14: reward: 197.000, steps: 197\n",
      "Episode 15: reward: 197.000, steps: 197\n",
      "Episode 16: reward: 25.000, steps: 25\n",
      "Episode 17: reward: 197.000, steps: 197\n",
      "Episode 18: reward: 197.000, steps: 197\n",
      "Episode 19: reward: 15.000, steps: 15\n",
      "Episode 20: reward: 197.000, steps: 197\n",
      "Episode 21: reward: 197.000, steps: 197\n",
      "Episode 22: reward: 197.000, steps: 197\n",
      "Episode 23: reward: 25.000, steps: 25\n",
      "Episode 24: reward: 197.000, steps: 197\n",
      "Episode 25: reward: 197.000, steps: 197\n",
      "Episode 26: reward: 197.000, steps: 197\n",
      "Episode 27: reward: 197.000, steps: 197\n",
      "Episode 28: reward: 25.000, steps: 25\n",
      "Episode 29: reward: 197.000, steps: 197\n",
      "Episode 30: reward: 16.000, steps: 16\n",
      "Episode 31: reward: 197.000, steps: 197\n",
      "Episode 32: reward: 197.000, steps: 197\n",
      "Episode 33: reward: 197.000, steps: 197\n",
      "Episode 34: reward: 197.000, steps: 197\n",
      "Episode 35: reward: 197.000, steps: 197\n",
      "Episode 36: reward: 26.000, steps: 26\n",
      "Episode 37: reward: 197.000, steps: 197\n",
      "Episode 38: reward: 21.000, steps: 21\n",
      "Episode 39: reward: 20.000, steps: 20\n",
      "Episode 40: reward: 197.000, steps: 197\n",
      "Episode 41: reward: 197.000, steps: 197\n",
      "Episode 42: reward: 16.000, steps: 16\n",
      "Episode 43: reward: 197.000, steps: 197\n",
      "Episode 44: reward: 14.000, steps: 14\n",
      "Episode 45: reward: 197.000, steps: 197\n",
      "Episode 46: reward: 197.000, steps: 197\n",
      "Episode 47: reward: 197.000, steps: 197\n",
      "Episode 48: reward: 197.000, steps: 197\n",
      "Episode 49: reward: 197.000, steps: 197\n",
      "Episode 50: reward: 15.000, steps: 15\n",
      "Episode 51: reward: 197.000, steps: 197\n",
      "Episode 52: reward: 197.000, steps: 197\n",
      "Episode 53: reward: 197.000, steps: 197\n",
      "Episode 54: reward: 197.000, steps: 197\n",
      "Episode 55: reward: 197.000, steps: 197\n",
      "Episode 56: reward: 197.000, steps: 197\n",
      "Episode 57: reward: 197.000, steps: 197\n",
      "Episode 58: reward: 197.000, steps: 197\n",
      "Episode 59: reward: 197.000, steps: 197\n",
      "Episode 60: reward: 197.000, steps: 197\n",
      "Episode 61: reward: 197.000, steps: 197\n",
      "Episode 62: reward: 197.000, steps: 197\n",
      "Episode 63: reward: 25.000, steps: 25\n",
      "Episode 64: reward: 15.000, steps: 15\n",
      "Episode 65: reward: 197.000, steps: 197\n",
      "Episode 66: reward: 28.000, steps: 28\n",
      "Episode 67: reward: 22.000, steps: 22\n",
      "Episode 68: reward: 197.000, steps: 197\n",
      "Episode 69: reward: 197.000, steps: 197\n",
      "Episode 70: reward: 197.000, steps: 197\n",
      "Episode 71: reward: 197.000, steps: 197\n",
      "Episode 72: reward: 197.000, steps: 197\n",
      "Episode 73: reward: 197.000, steps: 197\n",
      "Episode 74: reward: 519.000, steps: 14\n",
      "Episode 75: reward: 197.000, steps: 197\n",
      "Episode 76: reward: 197.000, steps: 197\n",
      "Episode 77: reward: 197.000, steps: 197\n",
      "Episode 78: reward: 197.000, steps: 197\n",
      "Episode 79: reward: 197.000, steps: 197\n",
      "Episode 80: reward: 197.000, steps: 197\n",
      "Episode 81: reward: 197.000, steps: 197\n",
      "Episode 82: reward: 22.000, steps: 22\n",
      "Episode 83: reward: 14.000, steps: 14\n",
      "Episode 84: reward: 14.000, steps: 14\n",
      "Episode 85: reward: 18.000, steps: 18\n",
      "Episode 86: reward: 197.000, steps: 197\n",
      "Episode 87: reward: 197.000, steps: 197\n",
      "Episode 88: reward: 16.000, steps: 16\n",
      "Episode 89: reward: 16.000, steps: 16\n",
      "Episode 90: reward: 197.000, steps: 197\n",
      "Episode 91: reward: 197.000, steps: 197\n",
      "Episode 92: reward: 197.000, steps: 197\n",
      "Episode 93: reward: 197.000, steps: 197\n",
      "Episode 94: reward: 197.000, steps: 197\n",
      "Episode 95: reward: 16.000, steps: 16\n",
      "Episode 96: reward: 197.000, steps: 197\n",
      "Episode 97: reward: 197.000, steps: 197\n",
      "Episode 98: reward: 197.000, steps: 197\n",
      "Episode 99: reward: 17.000, steps: 17\n",
      "Episode 100: reward: 197.000, steps: 197\n",
      "160.9\n"
     ]
    }
   ],
   "source": [
    "\n",
    "scores = dqn.test(env, nb_episodes=100, visualize=False)\n",
    "print(np.mean(scores.history['episode_reward']))\n",
    "\n",
    "env.close_video_recorder()"
   ]
  },
  {
   "cell_type": "code",
   "execution_count": null,
   "metadata": {},
   "outputs": [],
   "source": []
  }
 ],
 "metadata": {
  "kernelspec": {
   "display_name": "Python 3.8.10 ('venv': venv)",
   "language": "python",
   "name": "python3"
  },
  "language_info": {
   "codemirror_mode": {
    "name": "ipython",
    "version": 3
   },
   "file_extension": ".py",
   "mimetype": "text/x-python",
   "name": "python",
   "nbconvert_exporter": "python",
   "pygments_lexer": "ipython3",
   "version": "3.8.10"
  },
  "orig_nbformat": 4,
  "vscode": {
   "interpreter": {
    "hash": "9705cd9bb1cd3f75cacc64c830c816f4d5b8b46bb8973c8b095f871cd13babda"
   }
  }
 },
 "nbformat": 4,
 "nbformat_minor": 2
}
