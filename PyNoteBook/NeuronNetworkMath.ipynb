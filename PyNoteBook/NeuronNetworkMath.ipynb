{
 "cells": [
  {
   "cell_type": "code",
   "execution_count": null,
   "metadata": {},
   "outputs": [],
   "source": [
    "import numpy\n",
    "import numpy as np\n",
    "import tensorflow as tf\n",
    "from keras.models import Sequential\n",
    "from keras.layers import Dense\n",
    "from keras.layers import Reshape\n",
    "from keras.layers import LeakyReLU\n",
    "from keras.layers import Flatten\n",
    "from tensorflow import keras\n",
    "from keras.layers import Dropout\n",
    "from keras.layers import LeakyReLU, ReLU\n",
    "from random import Random\n",
    "import keras_tuner as kt"
   ]
  },
  {
   "cell_type": "code",
   "execution_count": null,
   "metadata": {},
   "outputs": [],
   "source": [
    "\n",
    "\n",
    "def generate_number_set(size):\n",
    "\tnumber_Y = []\n",
    "\tnumber_X = []\n",
    "\trandom = Random()\n",
    "\tfor i in range(0, size):\n",
    "\t\ta = random.randint(100, 200)\n",
    "\t\tb = random.randint(100, 200)\n",
    "\t\tnumber_X.append([a, b, 0])\n",
    "\t\tnumber_Y.append(a + b)\n",
    "\treturn numpy.asarray( number_X), np.asarray( number_Y)\n"
   ]
  },
  {
   "cell_type": "code",
   "execution_count": null,
   "metadata": {},
   "outputs": [],
   "source": [
    "\n",
    "\n",
    "\n",
    "def make_generator_model(hp, input, output):\n",
    "\tmodel = Sequential()\n",
    "\n",
    "\t# keras.layers.\n",
    "\n",
    "\tkernel_init = hp.Choice('kernel_initializer', ['uniform', 'lecun_uniform', 'normal', 'zero',\n",
    "\t                                               'glorot_normal', 'glorot_uniform', 'he_normal', 'he_uniform'])\n",
    "\tactivations = hp.Choice('kernel_initializer', ['uniform', 'lecun_uniform', 'normal', 'zero',\n",
    "\t                                               'glorot_normal', 'glorot_uniform', 'he_normal', 'he_uniform'])\n",
    "\thp0_units = hp.Int('dense0_units', min_value=32, max_value=512, step=32)\n",
    "\thp1_units = hp.Int('dense1_units', min_value=32, max_value=512, step=32)\n",
    "\n",
    "\t# foundation for 4x4 image\n",
    "\tmodel.add(Dense(hp0_units, input_dim=input, kernel_initializer = kernel_init))\n",
    "\tmodel.add(ReLU())\n",
    "\tmodel.add(Dense(hp1_units))\n",
    "\tmodel.add(ReLU())\n",
    "\tmodel.add(Dense(output))\n",
    "\n",
    "\thp_learning_rate = hp.Choice('learning_rate', values=[1e-2, 1e-3, 1e-4])\n",
    "\n",
    "\tmodel.compile(optimizer=keras.optimizers.Adam(learning_rate=hp_learning_rate),\n",
    "\t                  loss=keras.losses.SparseCategoricalCrossentropy(from_logits=True),\n",
    "\t                  metrics=['accuracy'])\n",
    "\n",
    "\treturn model\n"
   ]
  },
  {
   "cell_type": "code",
   "execution_count": null,
   "metadata": {},
   "outputs": [],
   "source": [
    "\n",
    "ar = 4\n",
    "input = 2\n",
    "output = 1\n",
    "EPOCH = 10\n",
    "train_X, train_y = generate_number_set(1000)\n",
    "\n",
    "def model_builder(hp):\n",
    "    model = make_generator_model(hp, input, output)\n",
    "    return model\n",
    "\n",
    "tuner = kt.Hyperband(model_builder,\n",
    "                        objective='val_accuracy',\n",
    "                        max_epochs=16,\n",
    "                        factor=3,\n",
    "                        directory='cache',\n",
    "                        project_name=str.format('Math'))\n",
    "stop_early = tf.keras.callbacks.EarlyStopping(monitor='val_loss', patience=5)\n",
    "tuner.search(train_X, train_y, epochs=50, validation_split=0.2, callbacks=[stop_early])\n",
    "best_hps = tuner.get_best_hyperparameters(num_trials=1)[0]\n",
    "\n",
    "best_models = tuner.get_best_models(8)\n",
    "\n",
    "cnn_model = tuner.hypermodel.build(best_hps)\n",
    "cnn_model.summary()\n",
    "cnn_model_history = cnn_model.fit(train_X, train_y, epochs=EPOCH)\n"
   ]
  }
 ],
 "metadata": {
  "language_info": {
   "name": "python"
  },
  "orig_nbformat": 4
 },
 "nbformat": 4,
 "nbformat_minor": 2
}
