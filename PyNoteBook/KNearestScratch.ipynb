{
 "cells": [
  {
   "cell_type": "markdown",
   "metadata": {},
   "source": [
    "# K Nereast Neightbour"
   ]
  },
  {
   "cell_type": "code",
   "execution_count": null,
   "metadata": {},
   "outputs": [],
   "source": [
    "\n",
    "\n",
    "from collections import Counter\n",
    "import numpy as np"
   ]
  },
  {
   "cell_type": "markdown",
   "metadata": {},
   "source": [
    "## Distance "
   ]
  },
  {
   "cell_type": "code",
   "execution_count": null,
   "metadata": {},
   "outputs": [],
   "source": [
    "\n",
    "def euclidean(a, b, k=1):\n",
    "\treturn np.linalg.norm(np.array(a) - np.array(b))\n",
    "\n",
    "\n",
    "def manhattan(a, b, k=1):\n",
    "\tb = np.abs(np.array(a) - np.array(b))\n",
    "\treturn np.sum(b)\n",
    "\n",
    "\n",
    "def minkowski(a, b, k=1):\n",
    "\tq = k\n",
    "\tqinv = 1.0 / q\n",
    "\tb = np.abs(np.array(a) - np.array(b))\n",
    "\tb = b ** q\n",
    "\treturn np.sum(b) * qinv\n",
    "\n"
   ]
  },
  {
   "cell_type": "code",
   "execution_count": null,
   "metadata": {},
   "outputs": [],
   "source": [
    "def KNNClassifier(X, Y, predict, k=3, distance=euclidean):\n",
    "\tvotes = knnVoteList(X, Y, predict, k, distance)\n",
    "\n",
    "\t# Get most common label.\n",
    "\tvote_result = Counter(votes).most_common(1)[0][0]\n",
    "\treturn vote_result\n",
    "\n",
    "\n",
    "def knnVoteList(X, Y, predict, k, distance=euclidean):\n",
    "\tif k < 1:\n",
    "\t\traise ValueError(\"K must be greater or equal to 1\")\n",
    "\n",
    "\tdistances = []\n",
    "\ti = 0\n",
    "\n",
    "\t# Compute all distance between predict and all cluster points.\n",
    "\tfor point in X:\n",
    "\t\tdist = distance(point, predict, k)\n",
    "\t\tgroup = Y[i]\n",
    "\t\tdistances.append([dist, group])\n",
    "\t\ti = i + 1\n",
    "\n",
    "\t# Sort based on the distances.\n",
    "\tsort = sorted(distances)\n",
    "\tvotes = [j[1] for j in sort[:k]]\n",
    "\n",
    "\t# Get most common label.\n",
    "\treturn votes\n",
    "\n",
    "\n",
    "def knnCandidates(X, Y, predict, k, distance=euclidean):\n",
    "\tif k < 1:\n",
    "\t\traise ValueError(\"K must be greater or equal to 1\")\n",
    "\n",
    "\tdistances = []\n",
    "\ti = 0\n",
    "\n",
    "\t# Compute all distance between predict and all cluster points.\n",
    "\tfor point in X:\n",
    "\t\tdist = distance(point, predict, k)\n",
    "\t\tgroup = Y[i]\n",
    "\t\tdistances.append([dist, group, point])\n",
    "\t\ti = i + 1\n",
    "\n",
    "\t# Sort based on the distances.\n",
    "\tsort = sorted(distances)\n",
    "\tvotes = [j[1] for j in sort[:k]]\n",
    "\tx = [j[2] for j in sort[:k]]\n",
    "\n",
    "\t# Get most common label.\n",
    "\treturn [[x_[0], y_] for x_, y_ in zip(x, votes)]\n",
    "\n",
    "\n",
    "def classifyArray(X, y, k, xy_mesh, distance=euclidean):\n",
    "\tarra = []\n",
    "\tfor point in xy_mesh:\n",
    "\t\tc = knnVoteList(X, y, point, k, distance)\n",
    "\t\tarra.append(c[0])\n",
    "\treturn np.array(arra)\n",
    "\n",
    "\n",
    "def meanDistance(predict, points):\n",
    "\t\"\"\"\n",
    "\n",
    "\t:param predict:\n",
    "\t:param points:\n",
    "\t:return:\n",
    "\t\"\"\"\n",
    "\tif len(points) <= 0:\n",
    "\t\traise ValueError(\"Must exist atleast a single point\")\n",
    "\tif len(points) == 1:\n",
    "\t\treturn points[0]\n",
    "\tpn = np.array(points[0])\n",
    "\n",
    "\tfor p in points[1:]:\n",
    "\t\tpn = pn + (1.0 / 2.0) * (np.array(p) - pn)\n",
    "\treturn pn"
   ]
  },
  {
   "cell_type": "markdown",
   "metadata": {},
   "source": []
  },
  {
   "cell_type": "code",
   "execution_count": null,
   "metadata": {},
   "outputs": [],
   "source": [
    "kTestSet = [1, 3, 5, 7]\n",
    "funcSet = [euclidean, manhattan, minkowski]\n",
    "samplesSize = [10, 50, 100, 500, 1000, 2000, 3000, 4000, 6000, 8000, 10000, 40000, 60000]\n",
    "testSize = [500, 600, 700, 800, 900, 1000, 3000, 4000, 6000, 8000, 9000, 10000, 10000]\n"
   ]
  }
 ],
 "metadata": {
  "language_info": {
   "name": "python"
  },
  "orig_nbformat": 4
 },
 "nbformat": 4,
 "nbformat_minor": 2
}
